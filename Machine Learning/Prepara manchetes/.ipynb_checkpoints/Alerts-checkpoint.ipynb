{
 "cells": [
  {
   "cell_type": "code",
   "execution_count": 1,
   "metadata": {},
   "outputs": [],
   "source": [
    "from tkinter import *\n",
    "\n",
    "from tkinter.ttk import *\n",
    "import re\n",
    "from textblob import TextBlob\n",
    "from tqdm.auto import tqdm\n",
    "from tkinter import Label\n",
    "import time\n",
    "import pandas as pd\n",
    "from selenium import webdriver\n",
    "from webdriver_manager.chrome import ChromeDriverManager\n",
    "import time\n",
    "from selenium.webdriver import ActionChains\n",
    "from bs4 import BeautifulSoup\n",
    "import urllib.request\n"
   ]
  },
  {
   "cell_type": "code",
   "execution_count": null,
   "metadata": {},
   "outputs": [],
   "source": [
    "arquivo = open('Gmail - Alerta do Google - Parceria Publico Privada.html', \"r\", encoding=\"UTF-8\")"
   ]
  },
  {
   "cell_type": "code",
   "execution_count": 114,
   "metadata": {},
   "outputs": [],
   "source": [
    "html = arquivo.read()\n",
    "soup = BeautifulSoup(html)"
   ]
  },
  {
   "cell_type": "code",
   "execution_count": 116,
   "metadata": {},
   "outputs": [],
   "source": [
    "links=[]\n",
    "manchete = []\n",
    "fonte = []\n",
    "alerta = []\n",
    "    \n",
    "for link in soup.find_all('a'):\n",
    "    if link.get('style') == \"color:#427fed;display:inline;text-decoration:none;font-size:16px;line-height:20px\":\n",
    "        links.append(link.get('href'))\n",
    "        alerta.append(tema)\n",
    "        \n",
    "    if link.get('style') == 'text-decoration:none;color:#737373':\n",
    "        fonte.append(link.get_text())\n",
    "        \n",
    "for cod in soup.find_all('span'):\n",
    "    if cod.get('style') =='padding:0px 6px 0px 0px':\n",
    "        manc = cod.find_all('span')\n",
    "        manchete.append(manc)"
   ]
  },
  {
   "cell_type": "code",
   "execution_count": 152,
   "metadata": {},
   "outputs": [
    {
     "data": {
      "text/plain": [
       "58"
      ]
     },
     "execution_count": 152,
     "metadata": {},
     "output_type": "execute_result"
    }
   ],
   "source": [
    "len(fonte)"
   ]
  },
  {
   "cell_type": "code",
   "execution_count": 118,
   "metadata": {},
   "outputs": [],
   "source": [
    "manchetes = []\n",
    "for m in manchete:\n",
    "    m=str(m)\n",
    "    m=m.replace('<b>', '')\n",
    "    m=m.replace('</b>', '')\n",
    "    m=m.replace('<span>', '')\n",
    "    m=m.replace('</span>', '')\n",
    "    m=m.replace('[', '')\n",
    "    m=m.replace(']', '')\n",
    "    manchetes.append(m)\n",
    "    "
   ]
  },
  {
   "cell_type": "code",
   "execution_count": 4,
   "metadata": {},
   "outputs": [],
   "source": [
    "def manchetes_e_links(lista):\n",
    "    links=[]\n",
    "    manchetes = []\n",
    "    fonte = []\n",
    "    alerta = []\n",
    "    \n",
    "    for l in lista:\n",
    "        arquivo = open(l, \"r\", encoding=\"UTF-8\")\n",
    "        html = arquivo.read()\n",
    "        soup = BeautifulSoup(html)\n",
    "        \n",
    "        \n",
    "        \n",
    "        manchete = []\n",
    "        for cod in soup.find_all('span'):\n",
    "            if cod.get('style') =='padding:0px 6px 0px 0px':\n",
    "                manc = cod.find_all('span')\n",
    "                manchete.append(manc)\n",
    "            if cod.get('style') =='color:#262626;font-size:22px':\n",
    "                tema=cod.get_text()\n",
    "                \n",
    "        for link in soup.find_all('a'):\n",
    "            \n",
    "            if link.get('style') == \"color:#427fed;display:inline;text-decoration:none;font-size:16px;line-height:20px\":\n",
    "                links.append(link.get('href'))\n",
    "                alerta.append(tema)\n",
    "        \n",
    "        for d in soup.find_all('div'):\n",
    "            if d.get('style') == 'color:#737373;font-size:12px':\n",
    "                for f in d.find_all('a'):\n",
    "                    if f.get('style') == 'text-decoration:none;color:#737373':\n",
    "                        fonte.append(f.get_text())\n",
    "                \n",
    "\n",
    "        \n",
    "        \n",
    "        for m in manchete:\n",
    "            m=str(m)\n",
    "            m=m.replace('<b>', '')\n",
    "            m=m.replace('</b>', '')\n",
    "            m=m.replace('<span>', '')\n",
    "            m=m.replace('</span>', '')\n",
    "            m=m.replace('[', '')\n",
    "            m=m.replace(']', '')\n",
    "            manchetes.append(m)\n",
    "            \n",
    "        arquivo.close()\n",
    "    return links, manchetes, fonte, alerta\n",
    "        "
   ]
  },
  {
   "cell_type": "code",
   "execution_count": 6,
   "metadata": {},
   "outputs": [],
   "source": [
    "lista=[]\n",
    "for i in range(1,25):\n",
    "    lista.append(f'{i}.html')\n"
   ]
  },
  {
   "cell_type": "code",
   "execution_count": 7,
   "metadata": {},
   "outputs": [],
   "source": [
    "l, m, f, a = manchetes_e_links(lista)"
   ]
  },
  {
   "cell_type": "code",
   "execution_count": 8,
   "metadata": {},
   "outputs": [
    {
     "data": {
      "text/plain": [
       "1080"
      ]
     },
     "execution_count": 8,
     "metadata": {},
     "output_type": "execute_result"
    }
   ],
   "source": [
    "len(a)"
   ]
  },
  {
   "cell_type": "code",
   "execution_count": null,
   "metadata": {},
   "outputs": [],
   "source": []
  },
  {
   "cell_type": "code",
   "execution_count": 9,
   "metadata": {},
   "outputs": [],
   "source": [
    "dicionario = {}\n",
    "dicionario[\"Manchete\"] = m\n",
    "dicionario[\"Link\"] = l\n",
    "dicionario[\"Fonte\"] = f\n",
    "dicionario[\"Alert\"] = a\n",
    "\n",
    "resultado = pd.DataFrame(data=dicionario)\n",
    "\n",
    "\n",
    "resultado.to_excel('Alertas.xlsx', index = False)"
   ]
  },
  {
   "cell_type": "code",
   "execution_count": null,
   "metadata": {},
   "outputs": [],
   "source": []
  }
 ],
 "metadata": {
  "kernelspec": {
   "display_name": "Python 3",
   "language": "python",
   "name": "python3"
  },
  "language_info": {
   "codemirror_mode": {
    "name": "ipython",
    "version": 3
   },
   "file_extension": ".py",
   "mimetype": "text/x-python",
   "name": "python",
   "nbconvert_exporter": "python",
   "pygments_lexer": "ipython3",
   "version": "3.7.6"
  }
 },
 "nbformat": 4,
 "nbformat_minor": 4
}
