{
 "cells": [
  {
   "cell_type": "code",
   "execution_count": 110,
   "metadata": {},
   "outputs": [],
   "source": [
    "%matplotlib inline\n",
    "import numpy as np\n",
    "import matplotlib\n",
    "import matplotlib.pyplot as plt\n",
    "import pandas as pd\n",
    "import re\n",
    "\n",
    "\n",
    "\n",
    "RANDOM_SEED = 42\n",
    "\n",
    "np.random.seed(RANDOM_SEED)\n",
    "\n",
    "from sklearn.feature_extraction.text import CountVectorizer\n",
    "from sklearn.metrics import accuracy_score\n",
    "from sklearn.naive_bayes import MultinomialNB\n",
    "from sklearn.pipeline import Pipeline\n",
    "from sklearn import svm\n",
    "from sklearn.naive_bayes import BernoulliNB\n",
    "from sklearn.ensemble import RandomForestClassifier\n",
    "from sklearn.linear_model import LogisticRegression"
   ]
  },
  {
   "cell_type": "code",
   "execution_count": 111,
   "metadata": {},
   "outputs": [],
   "source": [
    "import re\n",
    "def cleanup(text):\n",
    "    import string\n",
    "    punctuation = '[\\/!-.:?;,]' # Note que os sinais [] são delimitadores de um conjunto.\n",
    "    pattern = re.compile(punctuation)\n",
    "    text_subbed = re.sub(pattern, ' ', text)\n",
    "    return text_subbed"
   ]
  },
  {
   "cell_type": "code",
   "execution_count": 112,
   "metadata": {},
   "outputs": [
    {
     "data": {
      "text/html": [
       "<div>\n",
       "<style scoped>\n",
       "    .dataframe tbody tr th:only-of-type {\n",
       "        vertical-align: middle;\n",
       "    }\n",
       "\n",
       "    .dataframe tbody tr th {\n",
       "        vertical-align: top;\n",
       "    }\n",
       "\n",
       "    .dataframe thead th {\n",
       "        text-align: right;\n",
       "    }\n",
       "</style>\n",
       "<table border=\"1\" class=\"dataframe\">\n",
       "  <thead>\n",
       "    <tr style=\"text-align: right;\">\n",
       "      <th></th>\n",
       "      <th>Manchete</th>\n",
       "      <th>Link</th>\n",
       "      <th>Fonte</th>\n",
       "      <th>Alert</th>\n",
       "      <th>Relevante</th>\n",
       "    </tr>\n",
       "  </thead>\n",
       "  <tbody>\n",
       "    <tr>\n",
       "      <th>0</th>\n",
       "      <td>Google pede ajuda para projetos de software li...</td>\n",
       "      <td>https://www.google.com/url?rct=j&amp;sa=t&amp;url=http...</td>\n",
       "      <td>TecMundo</td>\n",
       "      <td>Parceria Publico Privada</td>\n",
       "      <td>0</td>\n",
       "    </tr>\n",
       "    <tr>\n",
       "      <th>1</th>\n",
       "      <td>UEMS/Mundo Novo tem projeto de R$674 mil aprov...</td>\n",
       "      <td>https://www.google.com/url?rct=j&amp;sa=t&amp;url=http...</td>\n",
       "      <td>UEMS</td>\n",
       "      <td>Parceria Publico Privada</td>\n",
       "      <td>1</td>\n",
       "    </tr>\n",
       "    <tr>\n",
       "      <th>2</th>\n",
       "      <td>Programa de Doria inclui privatizar Banco do B...</td>\n",
       "      <td>https://www.google.com/url?rct=j&amp;sa=t&amp;url=http...</td>\n",
       "      <td>O TEMPO</td>\n",
       "      <td>Parceria Publico Privada</td>\n",
       "      <td>0</td>\n",
       "    </tr>\n",
       "    <tr>\n",
       "      <th>3</th>\n",
       "      <td>Projeto de parceiras do Estado, Tocantins PPI ...</td>\n",
       "      <td>https://www.google.com/url?rct=j&amp;sa=t&amp;url=http...</td>\n",
       "      <td>Conexão Tocantins</td>\n",
       "      <td>Parceria Publico Privada</td>\n",
       "      <td>1</td>\n",
       "    </tr>\n",
       "    <tr>\n",
       "      <th>4</th>\n",
       "      <td>Rênio Quintas: Em defesa do Cave - Correio Bra...</td>\n",
       "      <td>https://www.google.com/url?rct=j&amp;sa=t&amp;url=http...</td>\n",
       "      <td>Correio Braziliense</td>\n",
       "      <td>Parceria Publico Privada</td>\n",
       "      <td>1</td>\n",
       "    </tr>\n",
       "    <tr>\n",
       "      <th>...</th>\n",
       "      <td>...</td>\n",
       "      <td>...</td>\n",
       "      <td>...</td>\n",
       "      <td>...</td>\n",
       "      <td>...</td>\n",
       "    </tr>\n",
       "    <tr>\n",
       "      <th>1865</th>\n",
       "      <td>Programa De Condicoes E Meio Ambiente De Traba...</td>\n",
       "      <td>https://www.google.com/url?rct=j&amp;sa=t&amp;url=http...</td>\n",
       "      <td>PSEG - Engenharia de Segurança do Trabalho e ...</td>\n",
       "      <td>PPP</td>\n",
       "      <td>0</td>\n",
       "    </tr>\n",
       "    <tr>\n",
       "      <th>1866</th>\n",
       "      <td>MASTER MG - Segurança do Trabalho PGR- PCMSO P...</td>\n",
       "      <td>https://www.google.com/url?rct=j&amp;sa=t&amp;url=http...</td>\n",
       "      <td>Bendito Guia</td>\n",
       "      <td>PPP</td>\n",
       "      <td>0</td>\n",
       "    </tr>\n",
       "    <tr>\n",
       "      <th>1867</th>\n",
       "      <td>Calçados | GDLP - Guadalupe : 42,5 and PPP</td>\n",
       "      <td>https://www.google.com/url?rct=j&amp;sa=t&amp;url=http...</td>\n",
       "      <td>Guadalupe Store</td>\n",
       "      <td>PPP</td>\n",
       "      <td>0</td>\n",
       "    </tr>\n",
       "    <tr>\n",
       "      <th>1868</th>\n",
       "      <td>Quais as modalidades na GA - Brainly.com.br</td>\n",
       "      <td>https://www.google.com/url?rct=j&amp;sa=t&amp;url=http...</td>\n",
       "      <td>Brainly</td>\n",
       "      <td>PPP</td>\n",
       "      <td>0</td>\n",
       "    </tr>\n",
       "    <tr>\n",
       "      <th>1869</th>\n",
       "      <td>HUDSON AMORIM REAGINDO PPP COM ALINE FARIA!!! ...</td>\n",
       "      <td>https://www.google.com/url?rct=j&amp;sa=t&amp;url=http...</td>\n",
       "      <td>Construtoras de Casas - Construtoras de Casas</td>\n",
       "      <td>PPP</td>\n",
       "      <td>0</td>\n",
       "    </tr>\n",
       "  </tbody>\n",
       "</table>\n",
       "<p>1870 rows × 5 columns</p>\n",
       "</div>"
      ],
      "text/plain": [
       "                                               Manchete  \\\n",
       "0     Google pede ajuda para projetos de software li...   \n",
       "1     UEMS/Mundo Novo tem projeto de R$674 mil aprov...   \n",
       "2     Programa de Doria inclui privatizar Banco do B...   \n",
       "3     Projeto de parceiras do Estado, Tocantins PPI ...   \n",
       "4     Rênio Quintas: Em defesa do Cave - Correio Bra...   \n",
       "...                                                 ...   \n",
       "1865  Programa De Condicoes E Meio Ambiente De Traba...   \n",
       "1866  MASTER MG - Segurança do Trabalho PGR- PCMSO P...   \n",
       "1867         Calçados | GDLP - Guadalupe : 42,5 and PPP   \n",
       "1868        Quais as modalidades na GA - Brainly.com.br   \n",
       "1869  HUDSON AMORIM REAGINDO PPP COM ALINE FARIA!!! ...   \n",
       "\n",
       "                                                   Link  \\\n",
       "0     https://www.google.com/url?rct=j&sa=t&url=http...   \n",
       "1     https://www.google.com/url?rct=j&sa=t&url=http...   \n",
       "2     https://www.google.com/url?rct=j&sa=t&url=http...   \n",
       "3     https://www.google.com/url?rct=j&sa=t&url=http...   \n",
       "4     https://www.google.com/url?rct=j&sa=t&url=http...   \n",
       "...                                                 ...   \n",
       "1865  https://www.google.com/url?rct=j&sa=t&url=http...   \n",
       "1866  https://www.google.com/url?rct=j&sa=t&url=http...   \n",
       "1867  https://www.google.com/url?rct=j&sa=t&url=http...   \n",
       "1868  https://www.google.com/url?rct=j&sa=t&url=http...   \n",
       "1869  https://www.google.com/url?rct=j&sa=t&url=http...   \n",
       "\n",
       "                                                  Fonte  \\\n",
       "0                                             TecMundo    \n",
       "1                                                 UEMS    \n",
       "2                                              O TEMPO    \n",
       "3                                    Conexão Tocantins    \n",
       "4                                  Correio Braziliense    \n",
       "...                                                 ...   \n",
       "1865   PSEG - Engenharia de Segurança do Trabalho e ...   \n",
       "1866                                      Bendito Guia    \n",
       "1867                                   Guadalupe Store    \n",
       "1868                                           Brainly    \n",
       "1869     Construtoras de Casas - Construtoras de Casas    \n",
       "\n",
       "                         Alert  Relevante  \n",
       "0     Parceria Publico Privada          0  \n",
       "1     Parceria Publico Privada          1  \n",
       "2     Parceria Publico Privada          0  \n",
       "3     Parceria Publico Privada          1  \n",
       "4     Parceria Publico Privada          1  \n",
       "...                        ...        ...  \n",
       "1865                       PPP          0  \n",
       "1866                       PPP          0  \n",
       "1867                       PPP          0  \n",
       "1868                       PPP          0  \n",
       "1869                       PPP          0  \n",
       "\n",
       "[1870 rows x 5 columns]"
      ]
     },
     "execution_count": 112,
     "metadata": {},
     "output_type": "execute_result"
    }
   ],
   "source": [
    "data = pd.read_excel(\"Train_Test.xlsx\")\n",
    "data"
   ]
  },
  {
   "cell_type": "code",
   "execution_count": 113,
   "metadata": {},
   "outputs": [
    {
     "data": {
      "text/html": [
       "<div>\n",
       "<style scoped>\n",
       "    .dataframe tbody tr th:only-of-type {\n",
       "        vertical-align: middle;\n",
       "    }\n",
       "\n",
       "    .dataframe tbody tr th {\n",
       "        vertical-align: top;\n",
       "    }\n",
       "\n",
       "    .dataframe thead th {\n",
       "        text-align: right;\n",
       "    }\n",
       "</style>\n",
       "<table border=\"1\" class=\"dataframe\">\n",
       "  <thead>\n",
       "    <tr style=\"text-align: right;\">\n",
       "      <th></th>\n",
       "      <th>Manchete</th>\n",
       "      <th>Link</th>\n",
       "      <th>Fonte</th>\n",
       "      <th>Alert</th>\n",
       "      <th>Relevante</th>\n",
       "    </tr>\n",
       "  </thead>\n",
       "  <tbody>\n",
       "    <tr>\n",
       "      <th>0</th>\n",
       "      <td>Google pede ajuda para projetos de software li...</td>\n",
       "      <td>https://www.google.com/url?rct=j&amp;sa=t&amp;url=http...</td>\n",
       "      <td>TecMundo</td>\n",
       "      <td>Parceria Publico Privada</td>\n",
       "      <td>0</td>\n",
       "    </tr>\n",
       "    <tr>\n",
       "      <th>1</th>\n",
       "      <td>UEMS/Mundo Novo tem projeto de R$674 mil aprov...</td>\n",
       "      <td>https://www.google.com/url?rct=j&amp;sa=t&amp;url=http...</td>\n",
       "      <td>UEMS</td>\n",
       "      <td>Parceria Publico Privada</td>\n",
       "      <td>1</td>\n",
       "    </tr>\n",
       "    <tr>\n",
       "      <th>2</th>\n",
       "      <td>Programa de Doria inclui privatizar Banco do B...</td>\n",
       "      <td>https://www.google.com/url?rct=j&amp;sa=t&amp;url=http...</td>\n",
       "      <td>O TEMPO</td>\n",
       "      <td>Parceria Publico Privada</td>\n",
       "      <td>0</td>\n",
       "    </tr>\n",
       "    <tr>\n",
       "      <th>3</th>\n",
       "      <td>Projeto de parceiras do Estado, Tocantins PPI ...</td>\n",
       "      <td>https://www.google.com/url?rct=j&amp;sa=t&amp;url=http...</td>\n",
       "      <td>Conexão Tocantins</td>\n",
       "      <td>Parceria Publico Privada</td>\n",
       "      <td>1</td>\n",
       "    </tr>\n",
       "    <tr>\n",
       "      <th>4</th>\n",
       "      <td>Rênio Quintas: Em defesa do Cave - Correio Bra...</td>\n",
       "      <td>https://www.google.com/url?rct=j&amp;sa=t&amp;url=http...</td>\n",
       "      <td>Correio Braziliense</td>\n",
       "      <td>Parceria Publico Privada</td>\n",
       "      <td>1</td>\n",
       "    </tr>\n",
       "    <tr>\n",
       "      <th>...</th>\n",
       "      <td>...</td>\n",
       "      <td>...</td>\n",
       "      <td>...</td>\n",
       "      <td>...</td>\n",
       "      <td>...</td>\n",
       "    </tr>\n",
       "    <tr>\n",
       "      <th>1865</th>\n",
       "      <td>Programa De Condicoes E Meio Ambiente De Traba...</td>\n",
       "      <td>https://www.google.com/url?rct=j&amp;sa=t&amp;url=http...</td>\n",
       "      <td>PSEG - Engenharia de Segurança do Trabalho e ...</td>\n",
       "      <td>PPP</td>\n",
       "      <td>0</td>\n",
       "    </tr>\n",
       "    <tr>\n",
       "      <th>1866</th>\n",
       "      <td>MASTER MG - Segurança do Trabalho PGR- PCMSO P...</td>\n",
       "      <td>https://www.google.com/url?rct=j&amp;sa=t&amp;url=http...</td>\n",
       "      <td>Bendito Guia</td>\n",
       "      <td>PPP</td>\n",
       "      <td>0</td>\n",
       "    </tr>\n",
       "    <tr>\n",
       "      <th>1867</th>\n",
       "      <td>Calçados | GDLP - Guadalupe : 42,5 and PPP</td>\n",
       "      <td>https://www.google.com/url?rct=j&amp;sa=t&amp;url=http...</td>\n",
       "      <td>Guadalupe Store</td>\n",
       "      <td>PPP</td>\n",
       "      <td>0</td>\n",
       "    </tr>\n",
       "    <tr>\n",
       "      <th>1868</th>\n",
       "      <td>Quais as modalidades na GA - Brainly.com.br</td>\n",
       "      <td>https://www.google.com/url?rct=j&amp;sa=t&amp;url=http...</td>\n",
       "      <td>Brainly</td>\n",
       "      <td>PPP</td>\n",
       "      <td>0</td>\n",
       "    </tr>\n",
       "    <tr>\n",
       "      <th>1869</th>\n",
       "      <td>HUDSON AMORIM REAGINDO PPP COM ALINE FARIA!!! ...</td>\n",
       "      <td>https://www.google.com/url?rct=j&amp;sa=t&amp;url=http...</td>\n",
       "      <td>Construtoras de Casas - Construtoras de Casas</td>\n",
       "      <td>PPP</td>\n",
       "      <td>0</td>\n",
       "    </tr>\n",
       "  </tbody>\n",
       "</table>\n",
       "<p>1867 rows × 5 columns</p>\n",
       "</div>"
      ],
      "text/plain": [
       "                                               Manchete  \\\n",
       "0     Google pede ajuda para projetos de software li...   \n",
       "1     UEMS/Mundo Novo tem projeto de R$674 mil aprov...   \n",
       "2     Programa de Doria inclui privatizar Banco do B...   \n",
       "3     Projeto de parceiras do Estado, Tocantins PPI ...   \n",
       "4     Rênio Quintas: Em defesa do Cave - Correio Bra...   \n",
       "...                                                 ...   \n",
       "1865  Programa De Condicoes E Meio Ambiente De Traba...   \n",
       "1866  MASTER MG - Segurança do Trabalho PGR- PCMSO P...   \n",
       "1867         Calçados | GDLP - Guadalupe : 42,5 and PPP   \n",
       "1868        Quais as modalidades na GA - Brainly.com.br   \n",
       "1869  HUDSON AMORIM REAGINDO PPP COM ALINE FARIA!!! ...   \n",
       "\n",
       "                                                   Link  \\\n",
       "0     https://www.google.com/url?rct=j&sa=t&url=http...   \n",
       "1     https://www.google.com/url?rct=j&sa=t&url=http...   \n",
       "2     https://www.google.com/url?rct=j&sa=t&url=http...   \n",
       "3     https://www.google.com/url?rct=j&sa=t&url=http...   \n",
       "4     https://www.google.com/url?rct=j&sa=t&url=http...   \n",
       "...                                                 ...   \n",
       "1865  https://www.google.com/url?rct=j&sa=t&url=http...   \n",
       "1866  https://www.google.com/url?rct=j&sa=t&url=http...   \n",
       "1867  https://www.google.com/url?rct=j&sa=t&url=http...   \n",
       "1868  https://www.google.com/url?rct=j&sa=t&url=http...   \n",
       "1869  https://www.google.com/url?rct=j&sa=t&url=http...   \n",
       "\n",
       "                                                  Fonte  \\\n",
       "0                                             TecMundo    \n",
       "1                                                 UEMS    \n",
       "2                                              O TEMPO    \n",
       "3                                    Conexão Tocantins    \n",
       "4                                  Correio Braziliense    \n",
       "...                                                 ...   \n",
       "1865   PSEG - Engenharia de Segurança do Trabalho e ...   \n",
       "1866                                      Bendito Guia    \n",
       "1867                                   Guadalupe Store    \n",
       "1868                                           Brainly    \n",
       "1869     Construtoras de Casas - Construtoras de Casas    \n",
       "\n",
       "                         Alert  Relevante  \n",
       "0     Parceria Publico Privada          0  \n",
       "1     Parceria Publico Privada          1  \n",
       "2     Parceria Publico Privada          0  \n",
       "3     Parceria Publico Privada          1  \n",
       "4     Parceria Publico Privada          1  \n",
       "...                        ...        ...  \n",
       "1865                       PPP          0  \n",
       "1866                       PPP          0  \n",
       "1867                       PPP          0  \n",
       "1868                       PPP          0  \n",
       "1869                       PPP          0  \n",
       "\n",
       "[1867 rows x 5 columns]"
      ]
     },
     "execution_count": 113,
     "metadata": {},
     "output_type": "execute_result"
    }
   ],
   "source": [
    "data = data[data[\"Manchete\"].notna()]\n",
    "data"
   ]
  },
  {
   "cell_type": "code",
   "execution_count": 114,
   "metadata": {},
   "outputs": [],
   "source": [
    "textos = list(data[\"Manchete\"])\n",
    "\n",
    "for e in range(len(textos)):\n",
    "    textos[e] = \" \".join(re.findall(r\"[^\\s\\d,.!?:]+\", textos[e])) \n",
    "\n",
    "y = list(data['Relevante'])\n"
   ]
  },
  {
   "cell_type": "markdown",
   "metadata": {},
   "source": [
    "## Document Frequency\n",
    "\n",
    "Para ver se tem palavras que podem ser utilizadas com stopwords"
   ]
  },
  {
   "cell_type": "code",
   "execution_count": 115,
   "metadata": {},
   "outputs": [],
   "source": [
    "X_lista = [s for s in data['Manchete']]\n",
    "DF_vectorizer = CountVectorizer(binary=True)\n",
    "X_unigram_comments = DF_vectorizer.fit_transform(X_lista)\n",
    "\n",
    "X_unigram_comments = np.mean(X_unigram_comments, axis=0)\n",
    "\n",
    "X_unigram_comments = [ (X_unigram_comments[0,DF_vectorizer.vocabulary_[i]], i) for i in DF_vectorizer.vocabulary_.keys() ]\n",
    "\n",
    "tuplas_ordenadas = sorted(X_unigram_comments, reverse=True) # reverse=True pede uma ordenação em ordem decrescente"
   ]
  },
  {
   "cell_type": "code",
   "execution_count": 116,
   "metadata": {},
   "outputs": [
    {
     "data": {
      "image/png": "[encoded data removed]",
      "text/plain": [
       "<Figure size 1008x216 with 1 Axes>"
      ]
     },
     "metadata": {
      "needs_background": "light"
     },
     "output_type": "display_data"
    }
   ],
   "source": [
    "palavras = [ t[1] for t in tuplas_ordenadas ]\n",
    "contagens = [ t[0] for t in tuplas_ordenadas ]\n",
    "eixo_x = np.arange(len(palavras))\n",
    "n_palavras = 100\n",
    "plt.figure(figsize=(14,3))\n",
    "plt.bar(eixo_x[0:n_palavras], contagens[0:n_palavras])\n",
    "plt.xticks(eixo_x[0:n_palavras], palavras[0:n_palavras], rotation=90)\n",
    "plt.ylabel('P(word)')\n",
    "plt.xlabel('Words')\n",
    "plt.title('Probability of finding a word in a random document from collection')\n",
    "plt.show()"
   ]
  },
  {
   "cell_type": "code",
   "execution_count": 117,
   "metadata": {},
   "outputs": [],
   "source": [
    "stopwords = ['de', 'a', 'o', 'com', 'do', 'da', 'que', 'um', 'uma', 'os', 'no', 'se', 'na', 'por', 'as', 'dos', 'ao', 'das',  'ou', 'muito', 'nos', 'já', 'eu', 'também', 'só', 'pelo', 'pela', 'até', 'isso', 'ela', 'entre', 'depois', 'sem', 'mesmo', 'aos', 'seus', 'quem', 'nas', 'me', 'esse', 'eles', 'você', 'essa', 'num', 'suas', 'meu', 'às', 'minha', 'numa', 'pelos', 'elas', 'qual', 'nós', 'lhe', 'deles', 'essas', 'esses', 'pelas', 'este', 'dele', 'tu', 'te', 'vocês', 'vos', 'lhes', 'meus', 'minhas', 'teu', 'tua', 'teus', 'tuas', 'nosso', 'nossa', 'nossos', 'nossas', 'dela', 'delas', 'esta', 'estes', 'estas', 'aquele', 'aquela', 'aqueles', 'aquelas', 'isto', 'aquilo', 'estou', 'está']"
   ]
  },
  {
   "cell_type": "code",
   "execution_count": 118,
   "metadata": {},
   "outputs": [
    {
     "data": {
      "image/png": "[encoded data removed]",
      "text/plain": [
       "<Figure size 1008x216 with 1 Axes>"
      ]
     },
     "metadata": {
      "needs_background": "light"
     },
     "output_type": "display_data"
    }
   ],
   "source": [
    "textos = [s for s in data['Manchete']]\n",
    "vectorizer = CountVectorizer(stop_words = stopwords, binary=True)\n",
    "x = vectorizer.fit_transform(textos).todense()\n",
    "x_ = np.mean(x, axis=0)\n",
    "\n",
    "# Passo 2: escolher somente elementos correspondentes a cada categoria\n",
    "filtro_pos = data['Relevante']==1\n",
    "\n",
    "x_pos = x[filtro_pos,:] # Escolho linhas com sentimento positivo\n",
    "x_pos_ = np.mean(x_pos, axis=0)\n",
    "filtro_neg = data['Relevante']==0\n",
    "x_neg = x[filtro_neg,:] # Escolho linhas com sentimento negativo\n",
    "x_neg_ = np.mean(x_neg, axis=0)\n",
    "\n",
    "# Passo 3: ordenar palavras de acordo com a soma geral. Vou incluir tambem a contagem nos grupos positivo e negativo!\n",
    "tuplas = [ (\\\n",
    "            x_[0,vectorizer.vocabulary_[i]],\\\n",
    "            i,\\\n",
    "            x_pos_[0, vectorizer.vocabulary_[i]],\\\n",
    "            x_neg_[0, vectorizer.vocabulary_[i]]\\\n",
    "            ) for i in vectorizer.vocabulary_.keys() ]\n",
    "tuplas_ordenadas = sorted(tuplas, reverse=True)\n",
    "palavras = [ t[1] for t in tuplas_ordenadas ]\n",
    "contagens_pos = [ t[2] for t in tuplas_ordenadas ]\n",
    "contagens_neg = [ t[3] for t in tuplas_ordenadas ]\n",
    "\n",
    "\n",
    "eixo_x = np.arange(len(palavras))\n",
    "n_palavras = 15\n",
    "\n",
    "plt.figure(figsize=(14,3))\n",
    "plt.bar(eixo_x[0:n_palavras]-0.125, contagens_pos[0:n_palavras], width=0.25, label='positive')\n",
    "plt.bar(eixo_x[0:n_palavras]+0.125, contagens_neg[0:n_palavras],  width=0.25, label='negative')\n",
    "plt.legend()\n",
    "plt.xticks(eixo_x[0:n_palavras], palavras[0:n_palavras], rotation=90)\n",
    "plt.ylabel('P(word | class)')\n",
    "plt.xlabel('Words')\n",
    "plt.title('Probability of finding a word in a random document from known class')\n",
    "plt.show()"
   ]
  },
  {
   "cell_type": "code",
   "execution_count": 119,
   "metadata": {},
   "outputs": [],
   "source": [
    "vectorizer = CountVectorizer(binary=True, stop_words=stopwords)\n",
    "X = vectorizer.fit_transform(textos) "
   ]
  },
  {
   "cell_type": "code",
   "execution_count": 120,
   "metadata": {},
   "outputs": [],
   "source": [
    "from sklearn.model_selection import train_test_split\n",
    "X_train, X_test, y_train, y_test = train_test_split(X, y, test_size=0.33, random_state=RANDOM_SEED)"
   ]
  },
  {
   "cell_type": "code",
   "execution_count": 121,
   "metadata": {},
   "outputs": [],
   "source": [
    "# Modelo\n",
    "#BernoulliNB = BernoulliNB()\n",
    "MultinomialNB = MultinomialNB()"
   ]
  },
  {
   "cell_type": "code",
   "execution_count": 122,
   "metadata": {},
   "outputs": [
    {
     "data": {
      "text/plain": [
       "MultinomialNB()"
      ]
     },
     "execution_count": 122,
     "metadata": {},
     "output_type": "execute_result"
    }
   ],
   "source": [
    "# Treinar modelo\n",
    "\n",
    "MultinomialNB.fit(X_train, y_train)"
   ]
  },
  {
   "cell_type": "code",
   "execution_count": 123,
   "metadata": {},
   "outputs": [
    {
     "name": "stdout",
     "output_type": "stream",
     "text": [
      "[0.83067093 0.83067093 0.80769231 0.81410256]\n",
      "Acurácia média:0.8207841812075038\n"
     ]
    }
   ],
   "source": [
    "# Validação Cruzada\n",
    "\n",
    "from sklearn.model_selection import cross_val_score\n",
    "\n",
    "\n",
    "res_NB = cross_val_score(\n",
    "    MultinomialNB, #modelo\n",
    "    X_train,\n",
    "    y_train,\n",
    "    cv=4, #partições\n",
    "    scoring=\"accuracy\", #numero de acertos por numero total\n",
    "    n_jobs=-1, # use todos os cores da minha maquina, faça tudo em paralelo\n",
    ")\n",
    "\n",
    "print(res_NB)\n",
    "print(f'Acurácia média:{res_NB.mean()}')"
   ]
  },
  {
   "cell_type": "code",
   "execution_count": 124,
   "metadata": {},
   "outputs": [],
   "source": [
    "vocab = vectorizer.vocabulary_\n",
    "# Probabilidades\n",
    "palavras_true = []\n",
    "palavras_false = []\n",
    "for t in vocab.keys():\n",
    "    prob_true = MultinomialNB.feature_log_prob_[0, vocab[t]]\n",
    "    palavras_true.append( (prob_true, t) ) \n",
    "    prob_false = MultinomialNB.feature_log_prob_[1, vocab[t]]\n",
    "    palavras_false.append( (prob_false, t) )"
   ]
  },
  {
   "cell_type": "code",
   "execution_count": 125,
   "metadata": {},
   "outputs": [
    {
     "data": {
      "image/png": "[encoded data removed]",
      "text/plain": [
       "<Figure size 1008x216 with 1 Axes>"
      ]
     },
     "metadata": {
      "needs_background": "light"
     },
     "output_type": "display_data"
    }
   ],
   "source": [
    "import math\n",
    "import numpy as np\n",
    "rw=[]\n",
    "for i in range(len(palavras_false)):\n",
    "    r = 2*abs((palavras_false[i][0])-(palavras_true[i][0]))\n",
    "    rw.append((r, palavras_false[i][1]))\n",
    "\n",
    "\n",
    "rw_ordenado =  sorted(rw, reverse=True)\n",
    "\n",
    "palavras = [ t[1] for t in rw_ordenado ]\n",
    "contagens = [ t[0] for t in rw_ordenado ]\n",
    "eixo_x = np.arange(len(palavras))\n",
    "n_palavras = 60\n",
    "plt.figure(figsize=(14,3))\n",
    "plt.bar(eixo_x[0:n_palavras], contagens[0:n_palavras])\n",
    "plt.xticks(eixo_x[0:n_palavras], palavras[0:n_palavras], rotation=90)\n",
    "plt.ylabel('Rw')\n",
    "plt.xlabel('Palavras')\n",
    "plt.title('Palavras Relevantes')\n",
    "plt.show()"
   ]
  },
  {
   "cell_type": "code",
   "execution_count": 126,
   "metadata": {},
   "outputs": [
    {
     "name": "stdout",
     "output_type": "stream",
     "text": [
      "inss - FALSE\n",
      "contrato - TRUE\n",
      "esocial - FALSE\n",
      "iluminação - TRUE\n",
      "vale - FALSE\n",
      "aposentadoria - FALSE\n",
      "mix - FALSE\n",
      "licitação - TRUE\n",
      "portaria - FALSE\n",
      "eletrônico - FALSE\n",
      "escola - FALSE\n",
      "jaboatão - TRUE\n",
      "aeroporto - TRUE\n",
      "assina - TRUE\n",
      "solar - TRUE\n"
     ]
    }
   ],
   "source": [
    "for tupla in rw_ordenado[:15]:\n",
    "    for p in tuplas_ordenadas: #(freq, palavra, qtd de vezes que aparece em manchetes positiva, qtd de vezes que aparece em manchetes negativa)\n",
    "        if tupla[1]==p[1]:\n",
    "            if p[2] >p[3]:\n",
    "                print(f'{p[1]} - TRUE')\n",
    "            else:\n",
    "                print(f'{p[1]} - FALSE')"
   ]
  },
  {
   "cell_type": "code",
   "execution_count": 127,
   "metadata": {},
   "outputs": [],
   "source": [
    "lista_analisando = ['ppp', 'público', 'prefeitura', 'parceria', 'parcerias', 'ms', 'projetos']"
   ]
  },
  {
   "cell_type": "code",
   "execution_count": 128,
   "metadata": {},
   "outputs": [
    {
     "name": "stdout",
     "output_type": "stream",
     "text": [
      "ms - TRUE\n",
      "prefeitura - TRUE\n",
      "parcerias - FALSE\n",
      "ppp - TRUE\n",
      "público - TRUE\n",
      "parceria - TRUE\n",
      "projetos - TRUE\n"
     ]
    }
   ],
   "source": [
    "for tupla in rw_ordenado:\n",
    "    for p in tuplas_ordenadas:\n",
    "        if p[1] in lista_analisando:\n",
    "            if tupla[1]==p[1]: \n",
    "                if p[2] >p[3]:\n",
    "                    print(f'{p[1]} - TRUE')\n",
    "                else:\n",
    "                    print(f'{p[1]} - FALSE')"
   ]
  },
  {
   "cell_type": "code",
   "execution_count": null,
   "metadata": {},
   "outputs": [],
   "source": []
  },
  {
   "cell_type": "code",
   "execution_count": 129,
   "metadata": {},
   "outputs": [],
   "source": [
    "sw_com_relevantes_MNB = stopwords\n",
    "#for t in rw_ordenado[1500:]:\n",
    "for t in rw_ordenado[1450:]:\n",
    "    if t[1] not in sw_com_relevantes_MNB:\n",
    "        sw_com_relevantes_MNB.append(t[1])\n",
    "        \n",
    "# juntando as palavras do analisando\n",
    "#sw_com_relevantes_MNB.append('ppp')\n",
    "#sw_com_relevantes_MNB.append('público')\n",
    "#sw_com_relevantes_MNB.append('parceria')\n",
    "#sw_com_relevantes_MNB.append('parcerias')\n",
    "#sw_com_relevantes_MNB.append('projetos')\n",
    "\n",
    "\n",
    "vectorizer_relevantes_MNB = CountVectorizer(binary=True, stop_words=sw_com_relevantes_MNB)\n",
    "X_relevantes = vectorizer_relevantes_MNB.fit_transform(textos) "
   ]
  },
  {
   "cell_type": "code",
   "execution_count": 130,
   "metadata": {},
   "outputs": [
    {
     "name": "stdout",
     "output_type": "stream",
     "text": [
      "['de', 'a', 'o', 'com', 'do', 'da', 'que', 'um', 'uma', 'os', 'no', 'se', 'na', 'por', 'as', 'dos', 'ao', 'das', 'ou', 'muito', 'nos', 'já', 'eu', 'também', 'só', 'pelo', 'pela', 'até', 'isso', 'ela', 'entre', 'depois', 'sem', 'mesmo', 'aos', 'seus', 'quem', 'nas', 'me', 'esse', 'eles', 'você', 'essa', 'num', 'suas', 'meu', 'às', 'minha', 'numa', 'pelos', 'elas', 'qual', 'nós', 'lhe', 'deles', 'essas', 'esses', 'pelas', 'este', 'dele', 'tu', 'te', 'vocês', 'vos', 'lhes', 'meus', 'minhas', 'teu', 'tua', 'teus', 'tuas', 'nosso', 'nossa', 'nossos', 'nossas', 'dela', 'delas', 'esta', 'estes', 'estas', 'aquele', 'aquela', 'aqueles', 'aquelas', 'isto', 'aquilo', 'estou', 'está', 'oswaldo', 'ortocane', 'original', 'origem', 'organizar', 'ordenamento', 'ordem', 'opportunity', 'opositor', 'opinião', 'onde', 'olímpico', 'ollie', 'oliveira', 'olimpíadas', 'oitivas', 'oi', 'oftalmológica', 'oficinas', 'oficina', 'oficiais', 'oferecem', 'oferece', 'obrigatorio', 'objetivos', 'objetiva', 'obemdito', 'o2', 'número', 'nº46', 'nº45', 'nuts', 'nutrição', 'nutricionistas', 'novidades', 'notíciass', 'notebooks', 'nota', 'north', 'normas', 'nome', 'nobru', 'nike', 'neymar', 'neves', 'nela', 'neio', 'negocia', 'nega', 'n10', 'música', 'móvel', 'mínima', 'mérito', 'médio', 'médicos', 'médias', 'máximo', 'máscaras', 'máscara', 'mvno', 'muçulmana', 'mute', 'music', 'mural', 'munições', 'multas', 'mudou', 'mudarem', 'mt', 'mrv', 'moção', 'moysés', 'movida', 'moveis', 'moute', 'motos', 'motorista', 'motoqueiro', 'motivos', 'mostrar', 'mortgage', 'morro', 'moral', 'moodle', 'monitorar', 'monitoramento', 'mondelez', 'molde', 'modernizam', 'moderação', 'modelagens', 'modas', 'mobiliário', 'mitigar', 'mit', 'minuta', 'mineirão', 'mineiro', 'mina', 'milton', 'militares', 'milionário', 'miles', 'microondas', 'michael', 'menu', 'menos', 'mendes', 'melhorias', 'meis', 'meios', 'meionorte', 'mei', 'mega', 'medalha', 'mecânicos', 'mecanismos', 'mccann', 'mc', 'mauricio', 'matrículas', 'matias', 'matando', 'master', 'massagem', 'massa', 'masculinos', 'masculino', 'masculina', 'março', 'martins', 'market', 'marinho', 'marinha', 'margeia', 'marcelo', 'mapa', 'mansão', 'manga', 'maneira', 'manda', 'manaus', 'making', 'maker', 'maiores', 'maio', 'magnética', 'magnet', 'magistério', 'macaquinho', 'macacão', 'ma', 'lúcio', 'lyra', 'luxsan', 'lucro', 'ltd', 'lotes', 'los', 'longa', 'locais', 'loas', 'loan', 'lixões', 'lixomania', 'livros', 'livro', 'livraria', 'litros', 'litoral', 'listas', 'lima', 'lika25', 'light', 'liga', 'lidera', 'liberal', 'liberada', 'libera', 'leve', 'levantamento', 'letra', 'leite', 'leiloar', 'legislação', 'least', 'lazer', 'larga', 'laranjeiras', 'laptop', 'lançam', 'lançada', 'lagos', 'lacuna', 'lacoste', 'kors', 'knowlton', 'kleinubing', 'kkkkkkkkkkkkkkkkkkkkk', 'khan', 'kess', 'kemono', 'kafitt', 'kabbage', 'jurídicas', 'jurídica', 'jurisprudência', 'juparanã', 'juliana', 'julgamento', 'jpeg', 'josué', 'jordão', 'jojos', 'jogada', 'joelheiras', 'joelheira', 'jaquetas', 'jaqueta', 'janela', 'jacuném', 'jacareí', 'ivan', 'ituano', 'itu', 'itatiaia', 'itanhandu', 'italianos', 'isps', 'isp', 'is', 'irmãos', 'ir', 'ipoe', 'ipo', 'ipiranga', 'iodo', 'inéditas', 'inédita', 'investiga', 'invalidez', 'interno', 'internados', 'interministerial', 'interior', 'integração', 'integrar', 'integral', 'integrado', 'institute', 'instaladas', 'inspire', 'inspira', 'inox', 'innovation', 'iniciação', 'iniciantes', 'ingressantes', 'infotech', 'informativa', 'inferno', 'inexistência', 'indígenas', 'indígena', 'indicativo', 'indicadores', 'indenização', 'indea', 'incompleto', 'incompleta', 'inclui', 'incentivos', 'inacabadas', 'imran', 'importância', 'imports', 'importo', 'importantes', 'importada', 'importa', 'implanta', 'imp', 'imobiliários', 'imobiliário', 'imce', 'imbé', 'imbróglio', 'imasul', 'imagens', 'im', 'ideias', 'idades', 'id', 'icp', 'icon', 'iclei', 'ibfc', 'iagro', 'híbridos', 'hábitos', 'hyundai', 'hype', 'hormônio', 'homicídios', 'homenageia', 'homem', 'hold', 'hochbau', 'história', 'hill', 'higienização', 'hidrogênio', 'heaven2017', 'hb20', 'hackathon', 'gênero', 'gás', 'gw', 'guinsburg', 'guiamais', 'guerra', 'guarujá', 'guardia', 'guaimbê', 'grizzly', 'graça', 'grave', 'gravataí', 'gratuito', 'government', 'governistas', 'gonçalves', 'go', 'glória', 'globoplay', 'gilmar', 'gigantes', 'gibraltar', 'gestão', 'gestión', 'gerson', 'gepr', 'gente', 'gene', 'gelo', 'geek2me', 'geek', 'gean', 'gazzoni', 'gasolina', 'garanti', 'gaming', 'games', 'gamer', 'galera', 'gabriel', 'gabinete', 'gabi', 'gabarito', 'fábrica', 'futebol', 'fusões', 'fundação', 'fruto', 'frutas', 'friends', 'freitas', 'freezer', 'freebitcoin', 'fr', 'fotpalestra', 'fotografias', 'fotografia', 'foto', 'forum', 'fornecendo', 'formoso', 'formato', 'formativos', 'formas', 'formadores', 'ford', 'fontes', 'fomenta', 'focado', 'foca', 'fnx', 'fmij', 'flor', 'flexível', 'fixtil', 'fit', 'fiscalizará', 'fiscais', 'firmiano', 'firmam', 'fique', 'fios', 'fiori', 'fins', 'finanças', 'financiando', 'financiamento', 'filtrado', 'filiação', 'fiema', 'ficar', 'fica', 'fibrasil', 'fgts', 'fgm', 'festa', 'femininos', 'feminicídio', 'feitas', 'fecham', 'fdirs', 'faço', 'faça', 'faturamento', 'farol', 'famílias', 'falsa', 'fake', 'faesp', 'faculdade', 'facilita', 'facial', 'face', 'fabricação', 'fabricar', 'extratoras', 'externo', 'expresso', 'exposto', 'experiências', 'experiencias', 'expectativas', 'expande', 'exercícios', 'exercida', 'exclusão', 'exclusiva', 'exceto', 'evoluções', 'evita', 'europa', 'eterno', 'etc', 'etapas', 'estrutural', 'estruturador', 'estratégica', 'estratégias', 'estratégia', 'estimação', 'esteio', 'esteche', 'estante', 'estabilizar', 'estabelece', 'esquema', 'espraiada', 'esperanças', 'esperança', 'espelho', 'específico', 'especialista', 'esgota', 'escolhidas', 'escolhem', 'escolhe', 'escolas', 'escolares', 'esclarecimento', 'esclarece', 'escalações', 'erval', 'ergonômicos', 'ergonômico', 'equilibrando', 'epp', 'episodio', 'epe', 'envelopamento', 'entregar', 'entorno', 'entenda', 'ensino', 'enjoei', 'engenheiro', 'enganação', 'endress', 'encostar', 'encontrado', 'encher', 'encanadoras', 'enacc', 'empresaqui', 'empreendimentos', 'empallador', 'emission', 'eletronico', 'eletrodomésticos', 'eletrodomesticos', 'eletrocutada', 'ele', 'eldorado', 'ejud', 'egma', 'efs', 'ef', 'ee', 'edvaldo', 'educativas', 'edição', 'editions', 'econômica', 'econ', 'ecodebate', 'easy', 'dólar', 'durante', 'drdrrdrdrd', 'drapeado', 'dr', 'download', 'dou', 'domiplay', 'domingo', 'domiciliares', 'doled', 'docx', 'document', 'docero', 'dobra', 'doação', 'diários', 'diálogo', 'divulgar', 'divulgadas', 'divulgada', 'dividendos', 'dividem', 'diversificados', 'diversas', 'distância', 'distrito', 'distribuição', 'distribuidora', 'dissecando', 'dispõe', 'dispensa', 'dirigia', 'direitos', 'direito', 'direcionamento', 'dir', 'diminuir', 'difícil', 'dificuldade', 'dicas', 'diagnóstico', 'dgbb', 'dez', 'devolução', 'detran', 'detento', 'detalhes', 'destituição', 'deste', 'destaques', 'desobrigação', 'desistência', 'desigualdade', 'desenvolve', 'desentupidora', 'desemprego', 'desde', 'desconto', 'desativar', 'desabrigados', 'deputado', 'democrática', 'demanda', 'delta', 'delegacia', 'deixar', 'definitivo', 'definidas', 'deficiência', 'declaração', 'debates', 'dbo', 'daquele', 'dafiti', 'cópia', 'código', 'cível', 'céu', 'cá', 'cycling', 'curtas', 'curitiba', 'cumpridas', 'ctc', 'ct', 'críticas', 'crédito', 'crz', 'cruzeiro', 'cruz', 'crn9', 'critica', 'cristóforo', 'cristo', 'cristina', 'crimes', 'criação', 'crescimento', 'crescer', 'crescem', 'craveiro', 'cp3p', 'coxofemoral', 'couro', 'costume', 'coruripe', 'cortina', 'corrida', 'correto', 'corrediças', 'coronel', 'coreanos', 'copa', 'coordenar', 'coopecigo', 'convocado', 'convivência', 'converter', 'contábeis', 'controlar', 'contnews', 'continuidade', 'continuada', 'continua', 'contas', 'contaram', 'contador', 'consulting', 'construída', 'construtorasdecasas', 'constitucional', 'consortium', 'conservadores', 'conservacao', 'conhecimento', 'conforto', 'confirma', 'confiança', 'conectar', 'condução', 'condições', 'condicoes', 'condicionado', 'concessoes', 'concessionárias', 'conceda', 'comunitários', 'computadores', 'compre', 'compras', 'compra', 'completaria', 'complementares', 'competitivo', 'começou', 'começarão', 'começará', 'começam', 'comercio', 'comerciantes', 'comandar', 'colégio', 'coluna', 'coloridos', 'colocam', 'coletiva', 'colabore', 'colaboração', 'coisas', 'cocais', 'cobrança', 'cobra', 'cobertura', 'coalizão', 'cnpj', 'club', 'cloud', 'claras', 'ciss', 'ciretran', 'circular', 'cintra', 'cifra', 'científica', 'ciclos', 'cibersegurança', 'ciber', 'chuvas', 'chuva', 'chocolate', 'chips', 'cheio', 'chefes', 'chaveiro', 'chapecó', 'chamando', 'cha', 'cg', 'certificados', 'certidões', 'cerrado', 'cenáriomt', 'censo', 'cem', 'celular', 'celeti', 'celebrazione', 'cearense', 'ceara', 'cea', 'categoria', 'cataratas', 'catalano', 'catadores', 'cat', 'casório', 'castro', 'casos', 'case', 'casamento', 'casagrande', 'casafer', 'casacos', 'carvalho', 'carteira', 'carregadores', 'carnaval', 'cardiopatia', 'carauari', 'capítulo', 'captação', 'capacitam', 'canil', 'cancelar', 'campus', 'campinas', 'campeonato', 'camiseta', 'camisa', 'caminhada', 'camaquã', 'calças', 'calçamento', 'calculadora', 'calca', 'cair', 'cai', 'cadastro', 'cacaulandia', 'bônus', 'básica', 'by', 'butanta', 'brusque', 'brisola', 'brisanet', 'brechas', 'brasileiro', 'brasil123', 'bpc', 'bordas', 'bonito', 'bogoni', 'bobags', 'board', 'bncc', 'bnb', 'blusas', 'blusa', 'biológicos', 'biológicas', 'billions', 'bilateral', 'bike', 'big', 'bid', 'bicampeão', 'bet', 'bermudas', 'benny', 'benedito', 'beijão', 'beijo', 'beijaram', 'because', 'bdta', 'bbb', 'batata', 'barão', 'barbosa', 'barato', 'banheiros', 'banheiro', 'bandeja', 'banda', 'banca', 'balcão', 'balanço', 'balança', 'bak', 'baixar', 'baixaki', 'bacchi', 'aço', 'avcb', 'avancem', 'avaliar', 'auxilia', 'autódromo', 'autor', 'auto', 'autenticada', 'aulas', 'auditiva', 'atualização', 'atração', 'atraso', 'atrapalha', 'atletas', 'atividade', 'atingiu', 'atenderem', 'atende', 'atarraxante', 'at', 'associada', 'assistência', 'assistente', 'assinar', 'assinale', 'assim', 'assessora', 'assemae', 'assassinado', 'articulação', 'arthur', 'artclub', 'arrecadados', 'armas', 'argentina', 'areia', 'aragão', 'araguaína', 'araguari', 'ar', 'aquisições', 'apsv', 'aproveitamento', 'aprovados', 'aprendizagem', 'apreende', 'apreciação', 'application', 'apostas', 'aplicação', 'aplausos', 'apelação', 'ap', 'antt', 'ants', 'antiguidades', 'anjo', 'anitta', 'anhanguera', 'aneel', 'anatel', 'analista', 'ampliam', 'ambiguidades', 'ambiente', 'ambev', 'amazonas', 'amaro', 'am', 'alves', 'alto', 'alternativo', 'altera', 'alimentar', 'aliança', 'algumas', 'algo', 'algar', 'alfacon', 'alertam', 'alemanha', 'alair', 'ajustvel', 'ajudar', 'airbus', 'aguardamos', 'agro', 'agoravale', 'agentes', 'agendar', 'agems', 'age', 'afirmar', 'afirma', 'afinal', 'aeronave', 'advising', 'adutora', 'adota', 'administrativa', 'administrador', 'adiar', 'adesão', 'adesivo', 'adequação', 'adalberto', 'acurácia', 'acre', 'acordos', 'acomodação', 'aceleram', 'accel', 'acadêmico', 'absolar', 'abordados', 'abono', 'abandonados', 'a876', '9x16mm', '997651', '99', '986734708', '981826302', '92', '91', '88', '866111s200', '8581a', '810', '75el', '65465', '6400', '64', '62', '613', '56', '542', '54', '51', '4ghz', '4c', '459', '411', '406', '4000', '38', '360º', '35', '33º', '334', '31º', '31', '300', '2pcs', '24h', '227', '2240', '2220', '220v', '21ppp', '2030', '2022resultado', '2019', '1995', '199', '1986', '1980603', '18608392000212', '164', '1600', '1535681_res_01_05__elabora', '130x90x50mm', '128', '1201', '1200', '120', '1017178405', '1000', '081', '0802652', '0508186', '0502493', '0500571', '040', '038', '008', '0004109', '00001238', '000', '00', 'última', 'ótimo', 'âmbito', 'zpe', 'zoobotânico', 'wtm', 'wanderlei', 'vs', 'votar', 'viário', 'vizinhas', 'visita', 'viracopos', 'vira', 'vinhedo', 'vinda', 'vigência', 'vidas', 'viabilizar', 'verdes', 'ventosa', 'vencedor', 'velocidade', 'valorização', 'v7', 'utilizado', 'usinas', 'usina', 'urgência', 'urbanos', 'urbanização', 'universalização', 'uei', 'ubss', 'ubs', 'uberlândia', 'título', 'tucano', 'tráfego', 'trilhão', 'trilhos', 'trianon', 'trens', 'trem', 'tratam', 'transformação', 'transfere', 'tower', 'total', 'torquato', 'tornar', 'toledo', 'tododia', 'to', 'tnonline', 'tj', 'time', 'timbónet', 'testa', 'terço', 'tentar', 'tenta', 'temer', 'telecomunicações', 'teatro', 'tcm', 'tcdf', 'taxa', 'tatuí', 'tatuzão', 'tarcísio', 'taguatinga', 'sílvio', 'superpoderes', 'sugere', 'sudoeste', 'substituição', 'substituir', 'spaço', 'sorteio', 'sopa', 'soluciona', 'sofreu', 'sociedades', 'socicam', 'sociais', 'sobe', 'smt', 'sitebarra', 'sinesp', 'simplificar', 'simpar', 'shangri', 'sessão', 'sequência', 'semae', 'selt', 'selecionada', 'seinfra', 'seguras', 'sapiranga', 'sanesul', 'sampa', 'salvamento', 'sairá', 'sair', 'sai', 'sabesp', 'sa', 'rótula', 'rênio', 'rurais', 'romper', 'rodovias', 'robson', 'rigor', 'ricardo', 'revolucionar', 'revitaliza', 'retomar', 'resumido', 'restituição', 'restabelecimento', 'resolução', 'residências', 'representante', 'representa', 'repasse', 'reparo', 'relicitação', 'relevante', 'relativas', 'relacionado', 'reinaugurado', 'regulação', 'regra', 'regionais', 'referência', 'reestruturação', 'redação', 'recorre', 'reconstruir', 'recolhimento', 'recintos', 'receita', 'recebimento', 'rebate', 'realizou', 'realizará', 'realizados', 'realizado', 'realizadas', 'ratinho', 'rankings', 'quê', 'quintas', 'quintana', 'quilombo', 'questionada', 'qualifica', 'públicos', 'pós', 'próximo', 'prédio', 'prático', 'provoca', 'provisório', 'protocolada', 'prorrogada', 'proppp', 'propor', 'pronta', 'prometida', 'promete', 'promessa', 'progresso', 'procura', 'privda', 'princípio', 'principais', 'primária', 'previstos', 'previstas', 'prever', 'presídios', 'preparatória', 'prefeituras', 'praças', 'praia', 'ppi', 'pousada', 'pouco', 'potencial', 'possibilidades', 'posições', 'positivos', 'políticas', 'play', 'planeja', 'pista', 'pipa', 'pior', 'pioneira', 'pinhais', 'permitir', 'peixe', 'pedras', 'pederneiras', 'pbh', 'pará', 'participa', 'parnaiba', 'parlamentar', 'parceiras', 'paralisa', 'parabenizado', 'pantaneiro', 'palmeiras', 'pagará', 'padre', 'outorgas', 'ouro', 'otimista', 'orçamentária', 'organização', 'opiniões', 'opera', 'onda', 'olivre', 'olinda', 'oferta', 'oeiras', 'ocb', 'objeto', 'oab', 'núcleo', 'novela', 'nova', 'notas', 'normalidade', 'noel', 'nh', 'next', 'neve', 'neutro', 'nascentes', 'nada', 'mídia', 'mário', 'mutirão', 'museu', 'municipal', 'municipais', 'mundocoop', 'mundo', 'muitas', 'mudar', 'mossoró', 'mortalidade', 'morada', 'monumento', 'monta', 'monotrilho', 'modificado', 'modernizados', 'modernizadas', 'mobit', 'mobilize', 'mobile', 'mmbb', 'mineiros', 'mineira', 'milhares', 'michel', 'metrópoles', 'mesquita', 'mercantil', 'melhorar', 'melhora', 'mel', 'medow', 'materno', 'maternidade', 'mario', 'marginal', 'marcam', 'marcada', 'marajó', 'mantém', 'manezinho', 'líquida', 'lv', 'luzes', 'luminosidade', 'londrina', 'lojas', 'logística', 'limpas', 'ligará', 'lideranças', 'licita', 'liberado', 'lgpd', 'levemente', 'levar', 'leouve', 'leopoldina', 'leis', 'leiloado', 'leiloada', 'legado', 'lauro', 'lapa', 'lado', 'la', 'kennedy', 'kalil', 'júlio', 'jurídicos', 'juninas', 'judiciário', 'jr', 'jovens', 'jor', 'jaguaré', 'itapoã', 'itaparica', 'irá', 'iracema', 'ip', 'inédito', 'investido', 'intimada', 'interferência', 'interdita', 'intercidades', 'instrumentos', 'instalará', 'instalar', 'instala', 'insegurança', 'iniciado', 'iniciadas', 'informa', 'info', 'infantil', 'indispõe', 'incluir', 'incidente', 'incentivadas', 'inaugurar', 'imóveis', 'impulsionarão', 'impulsionam', 'impresso', 'imprescindível', 'implementada', 'impasse', 'impactou', 'ii', 'iguaçu', 'ibaneis', 'hídrico', 'hub', 'hospital', 'hortifruti', 'homologa', 'home', 'histórico', 'hetrin', 'habitantes', 'guairanews', 'grupos', 'governança', 'goiás', 'goiano', 'gigante', 'gestores', 'gestor', 'gerido', 'geraram', 'gdf', 'gaúchos', 'ganhará', 'fôlego', 'férrea', 'futura', 'friense', 'fraport', 'fotovoltaicas', 'fotovoltaica', 'fortaleza', 'foram', 'focus', 'floripa', 'fizeram', 'fistel', 'firmar', 'financeiro', 'filho', 'fgv', 'festas', 'ferroviária', 'ferrovias', 'feridos', 'felicidade', 'feiras', 'fechadas', 'febril', 'faxaju', 'favor', 'falhas', 'fala', 'exponor', 'explicar', 'explica', 'expedicionário', 'executam', 'evolução', 'estuda', 'estruturada', 'estrutura', 'estradas', 'estiveram', 'estimado', 'estações', 'essenciais', 'especiais', 'escolha', 'equipar', 'envia', 'entretenimento', 'entregam', 'entrada', 'enfoque', 'enfim', 'enfermagem', 'encerrou', 'emtu', 'empréstimo', 'empregos', 'empreendimento', 'empreendendo', 'empreendedoras', 'emitem', 'eleva', 'eleitor', 'egypt', 'efluentes', 'ecopontos', 'economizar', 'ecológico', 'dunas', 'dois', 'dizer', 'divide', 'diversos', 'discutirá', 'discussões', 'diretor', 'dilton', 'digitalização', 'df', 'destinadas', 'destacando', 'destaca', 'desmoronamento', 'desmorona', 'desestatização', 'desenvolvida', 'descobrimento', 'deputada', 'deolhonailha', 'definida', 'deficiente', 'decore', 'decidir', 'debêntures', 'debatido', 'david', 'data', 'danificada', 'cênica', 'câmpus', 'custos', 'cumprido', 'cs', 'crm', 'criatividade', 'criar', 'credita', 'cptm', 'covas', 'coutinho', 'cotas', 'costa', 'corsan', 'correção', 'corrente', 'corredor', 'coralina', 'cora', 'convocação', 'controlada', 'contratual', 'contratos', 'contorno', 'contesta', 'contemplam', 'contempla', 'contagem', 'conta', 'consumidor', 'conservação', 'consciência', 'conjuntos', 'conjunto', 'conhecer', 'conhecem', 'concorre', 'comunidades', 'comunidade', 'comunicado', 'compliance', 'competitividade', 'competindo', 'compesa', 'comitiva', 'comboio', 'colocou', 'colocar', 'cofres', 'cnn', 'cmbh', 'cldf', 'cinco', 'cic', 'chuvoso', 'chegou', 'chegar', 'chegam', 'chamamento', 'chama', 'central', 'ceasa', 'ce', 'cdtc', 'ccro3', 'ccjr', 'ccj', 'cbmce', 'cavalo', 'catarinense', 'casoy', 'carris', 'carneiro', 'carlos', 'cariacica', 'carbono', 'carapuceiro', 'capital', 'capacidade', 'campina', 'caminha', 'cajuru', 'byington', 'byd', 'bruno', 'brt', 'briga', 'brasilianista', 'bracher', 'bovespa', 'boris', 'bonde', 'bolsonaro', 'bmf', 'blima', 'beneficiam', 'beltrão', 'belas', 'bbc', 'bater', 'bastante', 'barulho', 'baixo', 'badalo', 'ba', 'az', 'ayres', 'aviso', 'aviação', 'avenida', 'avanço', 'avançando', 'avançam', 'avaliação', 'autopublicação', 'aumentar', 'augustinópolis', 'auditoria', 'atualizado', 'atraem', 'atlântico', 'atividades', 'atingirá', 'atingem', 'atinge', 'atenção', 'atendimento', 'atendidas', 'atender', 'atacadista', 'assistencial', 'assinado', 'artes', 'arreada', 'arquitetos', 'aredacao', 'arco', 'arbitragens', 'aracaju', 'aquático', 'apurar', 'aproximadamente', 'aprovada', 'apresentada', 'apostam', 'aporte', 'apontam', 'aponta', 'apoia', 'antigo', 'andré', 'anderson', 'analisa', 'anac', 'ana', 'américa', 'amplia', 'american', 'ameaça', 'ambiental', 'amapá', 'amapergs', 'além', 'altas', 'almeida', 'alimentação', 'alfenas', 'alexandre', 'alesp', 'alerj', 'alavancar', 'ajustes', 'ajardinamento', 'agorape', 'agorams', 'agilizar', 'agilidade', 'afetada', 'afasta', 'aeroportuárias', 'aeroportos', 'aeroespacial', 'aegea', 'adversários', 'aditivos', 'adere', 'adequações', 'adcon', 'acompanhamento', 'acima', 'aceleração', 'acaba', 'abrir', 'aborda', 'abifer', 'abertura', 'aberta', 'abastecimento', 'abastecidas', 'ab', '97', '95', '94', '93', '900', '85', '78', '731', '600', '59', '53', '527', '49', '3º', '36', '3576726', '25', '22', '2020_b3_13', '200', '1ª', '150', '139', '127', '11', '102', '06', 'são', 'rio', 'implantação', 'após', 'ser', 'parque', 'sobre', 'política', 'comércio', 'agora', 'terá', 'pernambuco', 'nesta', 'garante', 'diz', 'dia', '14', 'justiça', 'diário', 'revista', 'publico', 'inicia', 'grupo', 'cultura', '19', 'valores', 'receber', 'privado', 'local', 'gazeta', 'desenvolvimento', 'bolsa', 'bi', 'bahia', 'administração', '03', 'mais', 'não', 'minas', 'tem', 'notícia', 'anuncia', 'água', 'vitória', 'vem', 'velha', 'traz', 'tecmundo', 'socioeducativo', 'sob', 'site', 'seis', 'santos', 'responsável', 'regime', 'quinta', 'públicas', 'propõe', 'promove', 'portão', 'piloto', 'parte', 'paes', 'operações', 'neste', 'mulheres', 'muda', 'melhor', 'marina', 'içara', 'investir', 'integra', 'impacto', 'hospitais', 'hora', 'globo', 'gerar', 'foi', 'feito', 'executivo', 'ex', 'estudantes', 'encontro', 'empreiteiro', 'diretrizes', 'desafios', 'confira', 'claro', 'certificado', 'cabo', 'antes', '30', '28', '13', 'turismo', 'tratamento', 'ter', 'tarefa', 'surgiu', 'sergipe', 'seminário', 'rodoviária', 'rodapé', 'rn', 'reconhecido', 'receberá', 'realizar', 'próximos', 'privatização', 'planejamento', 'pedro', 'oito', 'mudança', 'moradias', 'ministério', 'midiamax', 'melhores', 'lopes', 'leva', 'lagoas', 'institucional', 'informado', 'gustavo', 'garantir', 'fm', 'falta', 'f5', 'execução', 'estação', 'estadão', 'es', 'entregue', 'desenvolver', 'cronograma', 'cratera', 'concorrência', 'comprar', 'começar', 'catarina', 'caio', 'café', 'broadcast', 'blog', 'através', 'atibaia', 'artigo', 'arrecadação', 'aquário', 'aprovação', 'agenda', 'administrar', 'aberto', '90', '50', '39', '26', '20', '1º', '121', '100', 'federal', 'novas', 'feira', 'notícias', 'news', '2021', 'consultoria', 'educação', 'para', 'volta', 'vila', 'todos', 'terra', 'tce', 'serão', 'página', 'poder', 'jardim', 'evento', 'doria', 'cria', 'animais', 'parcerias', 'uol', 'terceira', 'serra', 'santo', 'revitalizada', 'proposta', 'país', 'novos', 'implementação', 'folha', 'final', 'fazer', 'fato', 'diario', 'conselho', 'bom', 'alegre', '44', '12', 'portal', 'passa', 'acesso', 'via', 'segunda', 'fim', 'devem', 'pode', 'santa', 'conheça', '01', 'ppp', 'social', 'povo', 'economia', 'ceará', 'digital', 'serviço', 'jornal', 'revitalização', 'grande', 'entrega', 'anos', 'secretaria', 'investimentos', 'ano', 'público', 'gzh', 'correio', 'privadas', 'privada', 'meio', 'parceria', 'em', 'úteis', 'único', 'últimos', 'último', 'óleos', 'áreas', 'águas', 'zoo', 'zona', 'zircônia', 'zero', 'zaffalon', 'xique', 'xg', 'xbox', 'work', 'wired', 'will', 'webinar', 'walter', 'vyos', 'voz', 'voltado', 'vlt', 'viés', 'vizinhos', 'vivo', 'viu', 'vitrine', 'visitas', 'visando', 'visa', 'virar', 'viglioni', 'viabilização', 'viabilidade', 'veículo', 'versão', 'vero', 'verdadeiros', 'verba', 'vencem', 'vanessa', 'vagas', 'vaga', 'usuários', 'ustda', 'usará', 'unigran', 'unem', 'ulisses', 'ufg', 'uespi', 'uemg', 'tópico', 'técnico', 'tá', 'turma', 'tubo', 'ts9000', 'trt15', 'trt', 'tropa', 'trolebus', 'trocar', 'triplicou', 'tribuna', 'tratar', 'transportava', 'transparência', 'transformar', 'transferência', 'transferidos', 'transação', 'trabalhista', 'trabalhando', 'trabalha', 'totalmente', 'torre', 'tornou', 'top', 'tomba', 'todo', 'toda', 'tnu', 'title', 'tipo', 'timer', 'timbaúva', 'thc', 'tesouro', 'teses', 'terão', 'terreno', 'temporária', 'tema', 'telsec', 'telemedicina', 'teleconsulta', 'telecomunicação', 'taubaté', 'tarso', 'tarifas', 'tampa', 'tamanhos', 'tal', 'sódio', 'sustentabilidade', 'suspenção', 'surreal', 'superveniente', 'suparc', 'sundae', 'sumário', 'suficiência', 'substituirá', 'subsequente', 'store', 'star', 'spa', 'souza', 'sousa', 'sorteados', 'sorocaba', 'soranz', 'sonsin', 'sonda', 'solário', 'solidário', 'solicitação', 'solicitando', 'solares', 'soja', 'sofrer', 'socorro', 'sociedade', 'sinop', 'sindipetro', 'sinaliza', 'sima', 'silk', 'sgm', 'sexual', 'serve', 'serraria', 'serrapilheira', 'senna', 'semijoias', 'semanas', 'seláveis', 'segura', 'sefaz', 'sedp', 'secti', 'secretários', 'sebrae', 'sebastião', 'screen', 'sc', 'sb', 'saude', 'sartore', 'sapucaia', 'santana', 'sandro', 'sanciona', 'samuca', 'samae', 'salvar', 'saiba', 'saem', 'saber', 'sabará', 'saa', 'ródio', 'régis', 'rápido', 'rui', 'rua', 'rreo', 'router', 'roteador', 'rose', 'rosa', 'roncarati', 'rompimento', 'rodrigo', 'rodas', 'rodada', 'roda', 'robótica', 'risco', 'rgb', 'revoluciona', 'revitalizam', 'revisa', 'retomada', 'restauração', 'restaurantes', 'ressalta', 'ressacada', 'respostas', 'resposta', 'requer', 'republicanos', 'reprova', 'representantes', 'report', 'renovação', 'renova', 'renda', 'relógios', 'relatórios', 'relativos', 'relacionados', 'rejeitado', 'reis', 'reinaugura', 'regularização', 'regulamento', 'regulamentadoras', 'região', 'registro', 'regionalização', 'regina', 'reforçado', 'reforça', 'reformulação', 'reformada', 'referente', 'reduzir', 'recém', 'recurso', 'recuperar', 'recorde', 'recopa', 'reconhecimento', 'recomenda', 'recinociv', 'receptor', 'recentes', 'recent', 'recebê', 'recebeu', 'recebem', 'realizada', 'reafirma', 'reaberta', 'ravena', 'raul', 'ranking', 'rajah', 'radar', 'questão', 'quero', 'queremos', 'quer', 'quebra', 'quarta', 'quando', 'qualificar', 'qualidade', 'quadros', 'qtd', 'púbica', 'pérola', 'publicado', 'ps', 'próximas', 'próprio', 'prêmio', 'proíbe', 'provedores', 'provas', 'protocolos', 'protocola', 'protetor', 'prospera', 'prosas', 'prorrogados', 'proporcionaram', 'pronto', 'promoview', 'promover', 'projetos', 'project', 'profissionais', 'professora', 'produção', 'produzir', 'problema', 'privatizações', 'priorização', 'priorizar', 'prioritário', 'primeiros', 'primeirojornal', 'primeira', 'prf', 'presidente', 'presença', 'presencial', 'pregão', 'prata', 'prainha', 'pr', 'ppptipope', 'pp', 'poucas', 'poti', 'pote', 'posto', 'possolo', 'posso', 'possible', 'possibilidade', 'portogente', 'portfólio', 'porte', 'portalcripto', 'porta', 'ponto', 'pontes', 'polícias', 'polo', 'poderão', 'poderiam', 'pneumologia', 'pmvc', 'pmv', 'playposeidon', 'plataforma', 'plano', 'planilha', 'planeta', 'planejar', 'planejamentos', 'pl', 'pires', 'piracicaba', 'piores', 'pinto', 'pinheiro', 'picos', 'piauienses', 'piaui', 'pg', 'petição', 'pet', 'pesque', 'pesadelo', 'perspectivas', 'pernambuca', 'permite', 'permanência', 'permanentes', 'periódicos', 'perguntas', 'perda', 'percepções', 'pequenos', 'penso', 'pensionistas', 'penal', 'pego', 'pedrito', 'pedrinho', 'pedir', 'passeio', 'passará', 'passagem', 'passageiros', 'partido', 'parcela', 'parceira', 'paraíso', 'paranaguá', 'paralisação', 'paraguay', 'paraguai', 'paradise', 'papel', 'panrotas', 'panificadora', 'pandemia', 'pague', 'pago', 'pagamentos', 'padeiro', 'pacotes', 'pacote', 'ovale', 'outras', 'orientações', 'organograma', 'organizações', 'oreporter', 'ordinária', 'ordena', 'orcamentários', 'one', 'on', 'olt', 'olhos', 'olho', 'ofício', 'oficial', 'oeste', 'ocupacional', 'ocupa', 'ocorrem', 'ocidental', 'obstétrico', 'obstrução', 'objetos', 'números', 'náutico', 'nº40', 'nunca', 'nublado', 'nove', 'noturna', 'notisul', 'noticiando', 'nomear', 'nocivo', 'noce', 'nft', 'net', 'nenhuma', 'neiva', 'negócios', 'negra', 'necessidade', 'navegando', 'naval', 'natureza', 'nacional', 'musk', 'muro', 'munícipes', 'mundial', 'mulher', 'msdosul', 'mschools', 'movimentam', 'move', 'mostra', 'morte', 'montenegro', 'monitora', 'money', 'monetária', 'momento', 'mole', 'moldes', 'modernizar', 'moderniza', 'modem', 'modelagem', 'modalidades', 'modalidade', 'mk', 'mirim', 'mirella', 'mirante', 'miranda', 'mip', 'minutos', 'mil', 'mikrotik', 'mi', 'mg_7043', 'mg', 'metrosul', 'metropolitana', 'metroferroviário', 'mestrado', 'mercados', 'mequetrefes', 'menor', 'meninas', 'menina', 'melhoria', 'mecânico', 'mdr', 'matéria', 'mata', 'mastercard', 'marque', 'marka', 'maringá', 'marca', 'maranguape', 'mara', 'manhã', 'manejo', 'maneiras', 'manauaras', 'mal', 'maia', 'magazine', 'madrugada', 'lá', 'luiza', 'luiz', 'lugar', 'lucca', 'lucas', 'losso', 'lojacostume', 'loans', 'livre', 'lisa', 'links', 'limite', 'ligaria', 'licitou', 'licitações', 'licenciatura', 'levam', 'leiajá', 'legit', 'legislativo', 'le', 'lançados', 'lago_acu', 'laerte', 'laboratórios', 'júnior', 'jóias', 'juntar', 'jundiaí', 'julho', 'juiz', 'josé', 'jornale', 'jorge', 'jogo', 'jogadores', 'jb', 'jaleco', 'jaguaruna', 'jacuzzi', 'iz', 'item', 'istoé', 'irão', 'irregularidades', 'ipês', 'iporá', 'ipnews', 'investidores', 'interessado', 'interditadas', 'intercorrente', 'integrarem', 'instalação', 'inscrição', 'insalubres', 'inova', 'inominado', 'iniciativas', 'ingressos', 'infraestrutura', 'informática', 'informações', 'informação', 'indenizada', 'incorreta', 'incertezas', 'incentivo', 'incapacidade', 'inauguram', 'inaugurada', 'impulso', 'impulsionar', 'imposto', 'impossibilitou', 'importante', 'imple', 'imersão', 'imerso', 'ilpf', 'iguá', 'ig', 'ifpi', 'ifma', 'ifba', 'if', 'ibge', 'ibdp', 'hélice', 'hxsj', 'hugo', 'huawei', 'hospitalar', 'horário', 'homero', 'homenagem', 'holística', 'higseg', 'higiene', 'hidrômetros', 'hidrocarbonetos', 'habitacional', 'guia', 'guedes', 'guariroba', 'guarda', 'guaratuba', 'gráfico', 'group', 'graxas', 'grandes', 'graduação', 'gov', 'gomes', 'golpe', 'goiânia', 'goitá', 'girls', 'ginásio', 'ginecológico', 'gh', 'gg', 'gerente', 'geral', 'gerador', 'generation', 'general', 'gcmais', 'gaz', 'gatos', 'gates', 'gasto', 'gastar', 'garcia', 'garantia', 'ganhou', 'ganhar', 'ganha', 'ga', 'félix', 'fátima', 'fv', 'futuro', 'função', 'fundamental', 'fundag', 'funcionamento', 'funciona', 'frr', 'frete', 'frequentes', 'frente', 'foz', 'forças', 'força', 'fortalecimento', 'fortalecer', 'forquilhinha', 'formalizam', 'formaliza', 'forma', 'fonte', 'fomentar', 'focinho', 'fluminense', 'florianópolis', 'florestas', 'flamengo', 'fiscal', 'fireball', 'fire', 'finlândia', 'financiador', 'financeira', 'finance', 'finalmente', 'finaliza', 'finais', 'fila', 'fiberhome', 'fez', 'ferroviário', 'fernanda', 'feminino', 'femininas', 'feminina', 'feita', 'federais', 'fecomércio', 'fecha', 'fdr', 'fazenda', 'fazem', 'favorecer', 'fatos', 'fapesc', 'falou', 'fale', 'facilitação', 'facebook', 'eólica', 'ezute', 'exposição', 'expo', 'experiência', 'expandir', 'existem', 'exigência', 'exigidos', 'executivos', 'executará', 'executar', 'evitar', 'eusébio', 'euros', 'europe', 'estância', 'estudo', 'estudar', 'estruturantes', 'estratégicas', 'estimulante', 'estatal', 'estar', 'estadual', 'estados', 'estacionamento', 'esportiva', 'esperar', 'especialização', 'especialidades', 'escuras', 'escritório', 'escolhida', 'escala', 'erexim', 'era', 'equivocada', 'equipe', 'equipamentos', 'epg', 'epbr', 'envolve', 'entrevista', 'entrelinhas', 'entraram', 'entrar', 'enterra', 'ensin', 'enquanto', 'engie', 'engeplus', 'engenheiras', 'encapsulamento', 'empresas', 'empresa', 'empreendedorismo', 'empreendedora', 'emperra', 'emergência', 'embrapa', 'embasa', 'elásticas', 'elon', 'elogia', 'elivaldo', 'elite', 'elisa', 'elevatória', 'eletrônica', 'elenca', 'eleições', 'elaele', 'eixo', 'efetivada', 'efeito', 'efd', 'educacional', 'educacionais', 'educ', 'eduardo', 'editais', 'ed', 'ecoparques', 'ead', 'dólares', 'déficit', 'décima', 'duas', 'duarte', 'dspace', 'dpi', 'doméstica', 'domingues', 'dom', 'dmk', 'dmae', 'diáconos', 'dizem', 'divulga', 'divinews', 'dividir', 'dissertações', 'disponível', 'disciplinas', 'direção', 'diretores', 'diocese', 'digitaldiário', 'digitais', 'diferencial', 'deverão', 'deveria', 'deve', 'determina', 'details', 'destravar', 'destinação', 'destina', 'desta', 'dessalinização', 'despesa', 'desktop', 'desempenho', 'desembolsar', 'descrições', 'descarte', 'desassoreamento', 'desafiador', 'der', 'deputados', 'denunciar', 'demográfico', 'della', 'decoração', 'declarar', 'debate', 'dar', 'daninhas', 'daniel', 'dando', 'dama', 'cães', 'câmeras', 'câmara', 'custou', 'customizar', 'custará', 'curta', 'cultural', 'cuiabá', 'crítica', 'criticam', 'criticada', 'cresco', 'cp', 'cotação', 'cotados', 'cordão', 'coração', 'coordenadores', 'coordenador', 'convale', 'contribuinte', 'contribui', 'contribuam', 'continuar', 'contestam', 'contato', 'consórcios', 'consumo', 'consumidores', 'construído', 'considera', 'conseguir', 'conosco', 'conlicitação', 'conjunta', 'confer', 'confap', 'conexão', 'condutores', 'concreto', 'concluir', 'conceição', 'conceicao', 'concedidos', 'conceder', 'computron', 'comprovar', 'componentes', 'complexidade', 'compensa', 'companhia', 'comevap', 'cometidos', 'cometeu', 'comercial', 'combustíveis', 'comando', 'colunas', 'colaborações', 'colaborar', 'cola', 'col', 'coinmarketcap', 'coibir', 'coca', 'cobram', 'co', 'cnr', 'cnm', 'cmtc', 'clássico', 'clique', 'clic', 'classificados', 'city', 'cities', 'cisco', 'cirurgia', 'cintura', 'chronos', 'chinês', 'china', 'chevrolet', 'charge', 'chapadão', 'chapada', 'ceus', 'cesan', 'cenário', 'centros', 'censitário', 'cemitérios', 'cemig', 'celebração', 'celebram', 'cei', 'cecília', 'cdr', 'cbic', 'caxias', 'catuipe', 'catarinenses', 'catanduva', 'caseiro', 'casas', 'carreta', 'carmo', 'carioca', 'caridade', 'cargo', 'capão', 'capta', 'capitalização', 'capacitará', 'capacitar', 'canoas', 'canoa', 'canina', 'canguru', 'candidatura', 'candidatos', 'candidato', 'campos', 'campanha', 'camocim', 'caminho', 'camacho', 'calça', 'calota', 'caixa', 'caiobá', 'caiado', 'caetano', 'cadeira', 'cadeia', 'cadarço', 'cabeceiras', 'cabeado', 'buscojobs', 'burocracia', 'britânico', 'brinco', 'braziliense', 'branca', 'boom', 'bondfaro', 'bolsos', 'bolsista', 'bolinha', 'boca', 'bob', 'boa', 'bnews', 'blogmeiahoranoticias', 'bis', 'bimestre', 'bill', 'bilionária', 'bijouterias', 'bienal', 'bh', 'beneficio', 'beneficiadas', 'beneficia', 'belvedere', 'bc', 'bbf', 'batem', 'bate', 'barreto', 'barra', 'bares', 'banrisul', 'banhistas', 'balthazar', 'baixos', 'baiano', 'baiana', 'aérea', 'ayrton', 'aviamentos', 'aversão', 'avartogh', 'avanços', 'avaliam', 'avalia', 'aval', 'auxílio', 'auxiliar', 'autônomo', 'automática', 'automotivo', 'author', 'authenticfeet', 'auth', 'ausência', 'auricchio', 'aumento', 'augusto', 'audiências', 'atuação', 'atuarão', 'atsum', 'atrasar', 'atrasados', 'atrair', 'atores', 'ativar', 'atenderam', 'atendendo', 'ate', 'atacar', 'atacado', 'assédio', 'associa', 'assine', 'assessorar', 'aspectos', 'asa', 'artista', 'arth', 'art', 'arraes', 'arquitetônica', 'aro', 'armazém', 'armazenamento', 'armadas', 'araras', 'araguaia', 'aquaviário', 'aprosoja', 'aprimorar', 'apresentará', 'apresentam', 'aprendizado', 'aposentar', 'aposentados', 'apoiar', 'apenas', 'apa', 'anunciou', 'anula', 'antecipar', 'angra', 'anexo', 'ampliar', 'ampla', 'amparo', 'amazônia', 'amazul', 'amanhece', 'alça', 'alvaro', 'alunos', 'alunas', 'alternativa', 'almg', 'alcança', 'alba', 'agência', 'aguarda', 'agrárias', 'agressores', 'agente', 'afetar', 'aeroflap', 'aecweb', 'adzuna', 'advoga', 'adsl2', 'adsl', 'adotar', 'adotadas', 'administrativo', 'aditivo', 'adimir', 'aderem', 'adaptações', 'acs', 'acritica', 'acredita', 'acorizal', 'acoplado', 'acontece', 'acolhe', 'acidadeon', 'acessórios', 'acena', 'acelerar', 'acelerada', 'acciona', 'academia', 'abril', 'abriga', 'abastecer', 'abandono', 'a866', '997080217', '990671218', '8305', '81', '77', '70', '6e', '65', '6324', '6302', '60', '5º', '57', '4w', '4oito', '4g', '46', '45', '3x', '3879_13_arquivos', '341', '33', '2º', '2ª', '298', '29', '280', '27mm', '272', '270', '224', '2025', '2020', '2018', '2015', '2000', '19h', '180', '177', '1714', '17', '16', '15', '14686', '140', '13º', '13829', '112', '110v', '10h', '101', '100und', '1000608', '0800496', '08', '050', '0492', '043', '02', '0189', '009', '0010526', '0007149', '0004638']\n"
     ]
    }
   ],
   "source": [
    "print(sw_com_relevantes_MNB)"
   ]
  },
  {
   "cell_type": "code",
   "execution_count": 131,
   "metadata": {},
   "outputs": [],
   "source": [
    "X_train_r, X_test_r, y_train_r, y_test_r = train_test_split(X_relevantes, y, test_size=0.33, random_state=RANDOM_SEED)"
   ]
  },
  {
   "cell_type": "code",
   "execution_count": 132,
   "metadata": {},
   "outputs": [
    {
     "data": {
      "text/plain": [
       "MultinomialNB()"
      ]
     },
     "execution_count": 132,
     "metadata": {},
     "output_type": "execute_result"
    }
   ],
   "source": [
    "MultinomialNB.fit(X_train_r, y_train_r)"
   ]
  },
  {
   "cell_type": "code",
   "execution_count": 133,
   "metadata": {},
   "outputs": [
    {
     "name": "stdout",
     "output_type": "stream",
     "text": [
      "[0.944 0.864 0.92  0.912 0.872 0.856 0.872 0.912 0.848 0.88 ]\n",
      "Acurácia média:0.8879999999999999\n"
     ]
    }
   ],
   "source": [
    "res_NB_r = cross_val_score(\n",
    "    MultinomialNB, #modelo\n",
    "    X_train_r,\n",
    "    y_train_r,\n",
    "    cv=10, #partições\n",
    "    scoring=\"accuracy\", #numero de acertos por numero total\n",
    "    n_jobs=-1, # use todos os cores da minha maquina, faça tudo em paralelo\n",
    ")\n",
    "\n",
    "print(res_NB_r)\n",
    "print(f'Acurácia média:{res_NB_r.mean()}')"
   ]
  },
  {
   "cell_type": "code",
   "execution_count": 134,
   "metadata": {},
   "outputs": [
    {
     "data": {
      "text/plain": [
       "array([[600,  56],\n",
       "       [ 11, 583]], dtype=int64)"
      ]
     },
     "execution_count": 134,
     "metadata": {},
     "output_type": "execute_result"
    }
   ],
   "source": [
    "from sklearn.metrics import confusion_matrix\n",
    "\n",
    "y_train_pred = MultinomialNB.predict(X_train_r)\n",
    "mat = confusion_matrix(y_train_r, y_train_pred)\n",
    "mat"
   ]
  },
  {
   "cell_type": "code",
   "execution_count": 1,
   "metadata": {},
   "outputs": [
    {
     "data": {
      "text/plain": [
       "1250"
      ]
     },
     "execution_count": 1,
     "metadata": {},
     "output_type": "execute_result"
    }
   ],
   "source": [
    "600+56+11+583"
   ]
  },
  {
   "cell_type": "code",
   "execution_count": 135,
   "metadata": {},
   "outputs": [
    {
     "name": "stdout",
     "output_type": "stream",
     "text": [
      "56 são classificados relevante e na verdade não são\n",
      "11 são classificados com não relevantes, mas na verdade são\n"
     ]
    }
   ],
   "source": [
    "print(f'{mat[0][1]} são classificados relevante e na verdade não são')\n",
    "print(f'{mat[1][0]} são classificados com não relevantes, mas na verdade são')"
   ]
  },
  {
   "cell_type": "code",
   "execution_count": 136,
   "metadata": {},
   "outputs": [],
   "source": [
    "y_pred_MBN = MultinomialNB.predict(X_test_r)"
   ]
  },
  {
   "cell_type": "code",
   "execution_count": 137,
   "metadata": {},
   "outputs": [
    {
     "name": "stdout",
     "output_type": "stream",
     "text": [
      "Acurácia: 0.839546191247974\n"
     ]
    }
   ],
   "source": [
    "acc = accuracy_score(y_test_r, y_pred_MBN)\n",
    "\n",
    "print(\"Acurácia: {}\".format(acc))"
   ]
  },
  {
   "cell_type": "code",
   "execution_count": 138,
   "metadata": {},
   "outputs": [
    {
     "data": {
      "text/plain": [
       "array([[241,  78],\n",
       "       [ 21, 277]], dtype=int64)"
      ]
     },
     "execution_count": 138,
     "metadata": {},
     "output_type": "execute_result"
    }
   ],
   "source": [
    "mat = confusion_matrix(y_test_r, y_pred_MBN)\n",
    "mat"
   ]
  },
  {
   "cell_type": "code",
   "execution_count": 139,
   "metadata": {},
   "outputs": [
    {
     "name": "stdout",
     "output_type": "stream",
     "text": [
      "78 são classificados relevante e na verdade não são\n",
      "21 são classificados com não relevantes, mas na verdade são\n"
     ]
    }
   ],
   "source": [
    "print(f'{mat[0][1]} são classificados relevante e na verdade não são')\n",
    "print(f'{mat[1][0]} são classificados com não relevantes, mas na verdade são')"
   ]
  },
  {
   "cell_type": "code",
   "execution_count": 108,
   "metadata": {},
   "outputs": [
    {
     "data": {
      "text/plain": [
       "3.403565640194489"
      ]
     },
     "execution_count": 108,
     "metadata": {},
     "output_type": "execute_result"
    }
   ],
   "source": [
    "(21/len(y_pred_MBN))*100"
   ]
  },
  {
   "cell_type": "code",
   "execution_count": 109,
   "metadata": {},
   "outputs": [
    {
     "data": {
      "text/plain": [
       "12.641815235008103"
      ]
     },
     "execution_count": 109,
     "metadata": {},
     "output_type": "execute_result"
    }
   ],
   "source": [
    "(78/len(y_pred_MBN))*100"
   ]
  },
  {
   "cell_type": "code",
   "execution_count": null,
   "metadata": {},
   "outputs": [],
   "source": []
  },
  {
   "cell_type": "markdown",
   "metadata": {},
   "source": [
    "## Bernoulli Nave Baeys"
   ]
  },
  {
   "cell_type": "code",
   "execution_count": 32,
   "metadata": {},
   "outputs": [
    {
     "data": {
      "text/plain": [
       "BernoulliNB()"
      ]
     },
     "execution_count": 32,
     "metadata": {},
     "output_type": "execute_result"
    }
   ],
   "source": [
    "# Modelo\n",
    "BernoulliNB = BernoulliNB()\n",
    "BernoulliNB.fit(X_train, y_train)"
   ]
  },
  {
   "cell_type": "code",
   "execution_count": 33,
   "metadata": {},
   "outputs": [
    {
     "name": "stdout",
     "output_type": "stream",
     "text": [
      "[0.87539936 0.84664537 0.81089744 0.82692308]\n",
      "Acurácia média:0.8399663103137545\n"
     ]
    }
   ],
   "source": [
    "# Validação Cruzada\n",
    "\n",
    "from sklearn.model_selection import cross_val_score\n",
    "\n",
    "\n",
    "res_NB = cross_val_score(\n",
    "    BernoulliNB, #modelo\n",
    "    X_train,\n",
    "    y_train,\n",
    "    cv=4, #partições\n",
    "    scoring=\"accuracy\", #numero de acertos por numero total\n",
    "    n_jobs=-1, # use todos os cores da minha maquina, faça tudo em paralelo\n",
    ")\n",
    "\n",
    "print(res_NB)\n",
    "print(f'Acurácia média:{res_NB.mean()}')"
   ]
  },
  {
   "cell_type": "code",
   "execution_count": 34,
   "metadata": {},
   "outputs": [],
   "source": [
    "vocab = vectorizer.vocabulary_\n",
    "# Probabilidades\n",
    "palavras_true = []\n",
    "palavras_false = []\n",
    "for t in vocab.keys():\n",
    "    prob_true = BernoulliNB.feature_log_prob_[0, vocab[t]]\n",
    "    palavras_true.append( (prob_true, t) )\n",
    "    prob_false = BernoulliNB.feature_log_prob_[1, vocab[t]]\n",
    "    palavras_false.append( (prob_false, t) )"
   ]
  },
  {
   "cell_type": "code",
   "execution_count": 35,
   "metadata": {},
   "outputs": [
    {
     "data": {
      "image/png": "[encoded data removed]",
      "text/plain": [
       "<Figure size 1008x216 with 1 Axes>"
      ]
     },
     "metadata": {
      "needs_background": "light"
     },
     "output_type": "display_data"
    }
   ],
   "source": [
    "import math\n",
    "import numpy as np\n",
    "rw=[]\n",
    "for i in range(len(palavras_false)):\n",
    "    r = 2*abs((palavras_false[i][0])-(palavras_true[i][0]))\n",
    "    rw.append((r, palavras_false[i][1]))\n",
    "\n",
    "\n",
    "rw_ordenado =  sorted(rw, reverse=True)\n",
    "\n",
    "palavras = [ t[1] for t in rw_ordenado ]\n",
    "contagens = [ t[0] for t in rw_ordenado ]\n",
    "eixo_x = np.arange(len(palavras))\n",
    "n_palavras = 60\n",
    "plt.figure(figsize=(14,3))\n",
    "plt.bar(eixo_x[0:n_palavras], contagens[0:n_palavras])\n",
    "plt.xticks(eixo_x[0:n_palavras], palavras[0:n_palavras], rotation=90)\n",
    "plt.ylabel('Rw')\n",
    "plt.xlabel('Palavras')\n",
    "plt.title('Palavras Relevantes')\n",
    "plt.show()"
   ]
  },
  {
   "cell_type": "code",
   "execution_count": 36,
   "metadata": {},
   "outputs": [
    {
     "name": "stdout",
     "output_type": "stream",
     "text": [
      "inss - FALSE\n",
      "contrato - TRUE\n",
      "iluminação - TRUE\n",
      "esocial - FALSE\n",
      "vale - FALSE\n",
      "licitação - TRUE\n",
      "aposentadoria - FALSE\n",
      "mix - FALSE\n",
      "jaboatão - TRUE\n",
      "aeroporto - TRUE\n",
      "portaria - FALSE\n",
      "eletrônico - FALSE\n",
      "assina - TRUE\n",
      "solar - TRUE\n",
      "rodoanel - TRUE\n"
     ]
    }
   ],
   "source": [
    "for tupla in rw_ordenado[:15]:\n",
    "    for p in tuplas_ordenadas:\n",
    "        if tupla[1]==p[1]:\n",
    "            if p[2] >p[3]:\n",
    "                print(f'{p[1]} - TRUE')\n",
    "            else:\n",
    "                print(f'{p[1]} - FALSE')"
   ]
  },
  {
   "cell_type": "code",
   "execution_count": 37,
   "metadata": {},
   "outputs": [],
   "source": [
    "stopwords = ['de', 'a', 'o', 'com', 'do', 'da', 'que', 'um', 'uma', 'os', 'no', 'se', 'na', 'por', 'as', 'dos', 'ao', 'das',  'ou', 'muito', 'nos', 'já', 'eu', 'também', 'só', 'pelo', 'pela', 'até', 'isso', 'ela', 'entre', 'depois', 'sem', 'mesmo', 'aos', 'seus', 'quem', 'nas', 'me', 'esse', 'eles', 'você', 'essa', 'num', 'suas', 'meu', 'às', 'minha', 'numa', 'pelos', 'elas', 'qual', 'nós', 'lhe', 'deles', 'essas', 'esses', 'pelas', 'este', 'dele', 'tu', 'te', 'vocês', 'vos', 'lhes', 'meus', 'minhas', 'teu', 'tua', 'teus', 'tuas', 'nosso', 'nossa', 'nossos', 'nossas', 'dela', 'delas', 'esta', 'estes', 'estas', 'aquele', 'aquela', 'aqueles', 'aquelas', 'isto', 'aquilo', 'estou', 'está']\n",
    "sw_com_relevantes = stopwords\n",
    "for t in rw_ordenado[650:]:\n",
    "    if t[1] not in sw_com_relevantes:\n",
    "        sw_com_relevantes.append(t[1])\n",
    "        \n",
    "# juntando as palavras do analisando\n",
    "#sw_com_relevantes_MNB.append('ppp')\n",
    "#sw_com_relevantes_MNB.append('público')\n",
    "#sw_com_relevantes_MNB.append('parceria')\n",
    "#sw_com_relevantes_MNB.append('parcerias')\n",
    "#sw_com_relevantes_MNB.append('projetos')\n",
    "        \n",
    "\n",
    "vectorizer_relevantes = CountVectorizer(binary=True, stop_words=sw_com_relevantes)\n",
    "X_relevantes = vectorizer_relevantes.fit_transform(textos) "
   ]
  },
  {
   "cell_type": "code",
   "execution_count": 38,
   "metadata": {},
   "outputs": [],
   "source": [
    "X_train_r, X_test_r, y_train_r, y_test_r = train_test_split(X_relevantes, y, test_size=0.33, random_state=RANDOM_SEED)"
   ]
  },
  {
   "cell_type": "code",
   "execution_count": 39,
   "metadata": {},
   "outputs": [],
   "source": [
    "BernoulliNB = BernoulliNB.fit(X_train_r, y_train_r)"
   ]
  },
  {
   "cell_type": "code",
   "execution_count": 40,
   "metadata": {},
   "outputs": [
    {
     "name": "stdout",
     "output_type": "stream",
     "text": [
      "[0.92  0.888 0.952 0.944 0.896 0.88  0.888 0.824 0.888 0.896]\n",
      "Acurácia média:0.8976000000000001\n"
     ]
    }
   ],
   "source": [
    "res_NB_r = cross_val_score(\n",
    "    BernoulliNB, #modelo\n",
    "    X_train_r,\n",
    "    y_train_r,\n",
    "    cv=10, #partições\n",
    "    scoring=\"accuracy\", #numero de acertos por numero total\n",
    "    n_jobs=-1, # use todos os cores da minha maquina, faça tudo em paralelo\n",
    ")\n",
    "\n",
    "print(res_NB_r)\n",
    "print(f'Acurácia média:{res_NB_r.mean()}')"
   ]
  },
  {
   "cell_type": "code",
   "execution_count": 41,
   "metadata": {},
   "outputs": [
    {
     "data": {
      "text/plain": [
       "array([[635,  21],\n",
       "       [ 72, 522]], dtype=int64)"
      ]
     },
     "execution_count": 41,
     "metadata": {},
     "output_type": "execute_result"
    }
   ],
   "source": [
    "from sklearn.metrics import confusion_matrix\n",
    "\n",
    "\n",
    "y_train_pred = BernoulliNB.predict(X_train_r)\n",
    "mat = confusion_matrix(y_train_r, y_train_pred)\n",
    "mat"
   ]
  },
  {
   "cell_type": "code",
   "execution_count": 42,
   "metadata": {},
   "outputs": [
    {
     "name": "stdout",
     "output_type": "stream",
     "text": [
      "Acurácia: 0.8346839546191248\n"
     ]
    }
   ],
   "source": [
    "y_pred_BN = BernoulliNB.predict(X_test_r)\n",
    "\n",
    "acc = accuracy_score(y_test_r, y_pred_BN)\n",
    "\n",
    "print(\"Acurácia: {}\".format(acc))"
   ]
  },
  {
   "cell_type": "code",
   "execution_count": 43,
   "metadata": {},
   "outputs": [
    {
     "name": "stdout",
     "output_type": "stream",
     "text": [
      "Acurácia: 0.8379254457050244\n"
     ]
    }
   ],
   "source": [
    "import statistics\n",
    "import itertools\n",
    "y_pred = list(itertools.repeat(0, len(y_pred_BN)))\n",
    "for i in range(len(y_pred_BN)-1):\n",
    "    valores = [y_pred_BN[i], y_pred_MBN[i]]\n",
    "    \n",
    "    \n",
    "    try:\n",
    "        y_pred[i] = statistics.mode(valores)\n",
    "    except:\n",
    "        y_pred[i] = 1\n",
    "    \n",
    "# Calcula acurácia.\n",
    "acc = accuracy_score(y_test, y_pred)\n",
    "\n",
    "print(\"Acurácia: {}\".format(acc))\n",
    "    "
   ]
  },
  {
   "cell_type": "markdown",
   "metadata": {},
   "source": [
    "## Classificando Base"
   ]
  },
  {
   "cell_type": "code",
   "execution_count": 44,
   "metadata": {},
   "outputs": [],
   "source": [
    "# Preparando:\n",
    "df = pd.read_excel(\"Manchetes_Novas.xlsx\")\n",
    "df\n",
    "\n",
    "textos_classificar = list(df[\"Manchete\"])\n",
    "\n",
    "for e in range(len(textos)):\n",
    "    textos[e] = \" \".join(re.findall(r\"[^\\s\\d,.!?:]+\", textos[e]))\n",
    "    \n",
    "#vectorizer= CountVectorizer(binary=True, stop_words=sw_com_relevantes_MNB)\n",
    "X_classificar = vectorizer_relevantes_MNB.transform(textos_classificar) \n",
    "\n",
    "Classificacao = MultinomialNB.predict(X_classificar)\n",
    "\n",
    "df[\"Relevância\"] = pd.Series(Classificacao)\n",
    "\n",
    "df.to_excel('BASE_CLASSIFICADA.xlsx', index = False)\n",
    "\n"
   ]
  },
  {
   "cell_type": "code",
   "execution_count": null,
   "metadata": {},
   "outputs": [],
   "source": []
  }
 ],
 "metadata": {
  "kernelspec": {
   "display_name": "Python 3",
   "language": "python",
   "name": "python3"
  },
  "language_info": {
   "codemirror_mode": {
    "name": "ipython",
    "version": 3
   },
   "file_extension": ".py",
   "mimetype": "text/x-python",
   "name": "python",
   "nbconvert_exporter": "python",
   "pygments_lexer": "ipython3",
   "version": "3.7.6"
  }
 },
 "nbformat": 4,
 "nbformat_minor": 4
}
