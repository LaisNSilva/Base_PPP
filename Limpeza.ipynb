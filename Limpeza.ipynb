{
 "cells": [
  {
   "cell_type": "code",
   "execution_count": 19,
   "id": "0dbdbc7e",
   "metadata": {},
   "outputs": [],
   "source": [
    "import pandas as pd\n"
   ]
  },
  {
   "cell_type": "code",
   "execution_count": 20,
   "id": "fb0b3a4a",
   "metadata": {},
   "outputs": [],
   "source": [
    "base_completa = pd.read_excel(r\"C:\\Users\\Lais Nascimento\\Desktop\\Base_PPP\\output\\Base_PPP.xlsx\")"
   ]
  },
  {
   "cell_type": "code",
   "execution_count": 21,
   "id": "2018b9dd",
   "metadata": {},
   "outputs": [],
   "source": [
    "base_radarPPP = pd.read_excel(r\"C:\\Users\\Lais Nascimento\\Desktop\\Base_PPP\\Web Scraping\\Backup_Radar_PPP.xlsx\")"
   ]
  },
  {
   "cell_type": "code",
   "execution_count": 22,
   "id": "1f4eef10",
   "metadata": {},
   "outputs": [],
   "source": [
    "nome_radarPPP = list(base_radarPPP['Nome'])\n",
    "nome_completa = list(base_completa['Nome'])"
   ]
  },
  {
   "cell_type": "code",
   "execution_count": 23,
   "id": "de6e47e2",
   "metadata": {},
   "outputs": [],
   "source": [
    "inputs_nomes = [i for i in nome_completa if i not in nome_radarPPP]"
   ]
  },
  {
   "cell_type": "code",
   "execution_count": 24,
   "id": "0cbddc7b",
   "metadata": {},
   "outputs": [],
   "source": [
    "filter_base = base_completa.loc[base_completa['Nome'].isin(inputs_nomes)]"
   ]
  },
  {
   "cell_type": "code",
   "execution_count": 25,
   "id": "843ab66d",
   "metadata": {},
   "outputs": [],
   "source": [
    "filter_base.to_excel('INPUT_Base_PPP.xlsx')"
   ]
  },
  {
   "cell_type": "code",
   "execution_count": null,
   "id": "02640a41",
   "metadata": {},
   "outputs": [],
   "source": []
  }
 ],
 "metadata": {
  "kernelspec": {
   "display_name": "Python 3",
   "language": "python",
   "name": "python3"
  },
  "language_info": {
   "codemirror_mode": {
    "name": "ipython",
    "version": 3
   },
   "file_extension": ".py",
   "mimetype": "text/x-python",
   "name": "python",
   "nbconvert_exporter": "python",
   "pygments_lexer": "ipython3",
   "version": "3.7.6"
  }
 },
 "nbformat": 4,
 "nbformat_minor": 5
}
