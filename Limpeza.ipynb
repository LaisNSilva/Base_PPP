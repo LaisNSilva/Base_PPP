{
 "cells": [
  {
   "cell_type": "code",
   "execution_count": 139,
   "id": "bd6894e9",
   "metadata": {},
   "outputs": [],
   "source": [
    "import pandas as pd\n"
   ]
  },
  {
   "cell_type": "code",
   "execution_count": 140,
   "id": "98665cad",
   "metadata": {},
   "outputs": [],
   "source": [
    "base_completa = pd.read_excel(r\"C:\\Users\\Lais Nascimento\\Desktop\\Base_PPP\\output\\Base_PPP.xlsx\")"
   ]
  },
  {
   "cell_type": "code",
   "execution_count": 141,
   "id": "4e31f894",
   "metadata": {},
   "outputs": [],
   "source": [
    "base_radarPPP = pd.read_excel(r\"C:\\Users\\Lais Nascimento\\Desktop\\Base_PPP\\output\\Backup_Radar_PPP.xlsx\")"
   ]
  },
  {
   "cell_type": "code",
   "execution_count": 142,
   "id": "0a043e6d",
   "metadata": {},
   "outputs": [],
   "source": [
    "nome_radarPPP = list(base_radarPPP['limpeza'])\n",
    "nome_completa = list(base_completa['limpeza'])\n"
   ]
  },
  {
   "cell_type": "code",
   "execution_count": 143,
   "id": "4c3270ef",
   "metadata": {},
   "outputs": [],
   "source": [
    "inputs_nomes = [i for i in nome_completa if i not in nome_radarPPP]"
   ]
  },
  {
   "cell_type": "code",
   "execution_count": 123,
   "id": "bd13f5f8",
   "metadata": {},
   "outputs": [],
   "source": [
    "filter_base = base_completa.loc[base_completa['limpeza'].isin(inputs_nomes)]"
   ]
  },
  {
   "cell_type": "code",
   "execution_count": 124,
   "id": "83a416a0",
   "metadata": {},
   "outputs": [],
   "source": [
    "filter_base.to_excel('INPUT_Base_PPP.xlsx')"
   ]
  },
  {
   "cell_type": "code",
   "execution_count": 125,
   "id": "30ee754e",
   "metadata": {},
   "outputs": [],
   "source": [
    "filter_base = base_completa.loc[base_completa['limpeza'].isin(nome_radarPPP)]"
   ]
  },
  {
   "cell_type": "code",
   "execution_count": 126,
   "id": "0ac7732e",
   "metadata": {},
   "outputs": [],
   "source": [
    "filter_base.to_excel('Backup.xlsx')"
   ]
  },
  {
   "cell_type": "code",
   "execution_count": 144,
   "id": "ab6dbb7b",
   "metadata": {},
   "outputs": [
    {
     "data": {
      "text/plain": [
       "187"
      ]
     },
     "execution_count": 144,
     "metadata": {},
     "output_type": "execute_result"
    }
   ],
   "source": [
    "len(nome_radarPPP)"
   ]
  },
  {
   "cell_type": "code",
   "execution_count": 145,
   "id": "78347a1e",
   "metadata": {},
   "outputs": [
    {
     "data": {
      "text/plain": [
       "338"
      ]
     },
     "execution_count": 145,
     "metadata": {},
     "output_type": "execute_result"
    }
   ],
   "source": [
    "len(nome_completa)"
   ]
  },
  {
   "cell_type": "code",
   "execution_count": 146,
   "id": "e62cb501",
   "metadata": {},
   "outputs": [
    {
     "data": {
      "text/plain": [
       "176"
      ]
     },
     "execution_count": 146,
     "metadata": {},
     "output_type": "execute_result"
    }
   ],
   "source": [
    "len(inputs_nomes)"
   ]
  },
  {
   "cell_type": "code",
   "execution_count": 147,
   "id": "03857982",
   "metadata": {},
   "outputs": [
    {
     "data": {
      "text/plain": [
       "151"
      ]
     },
     "execution_count": 147,
     "metadata": {},
     "output_type": "execute_result"
    }
   ],
   "source": [
    "338-187"
   ]
  },
  {
   "cell_type": "code",
   "execution_count": 135,
   "id": "770a81a3",
   "metadata": {},
   "outputs": [
    {
     "data": {
      "text/plain": [
       "16"
      ]
     },
     "execution_count": 135,
     "metadata": {},
     "output_type": "execute_result"
    }
   ],
   "source": []
  },
  {
   "cell_type": "code",
   "execution_count": 148,
   "id": "14f5064f",
   "metadata": {},
   "outputs": [],
   "source": [
    "teste = [i for i in nome_completa if i not in inputs_nomes]"
   ]
  },
  {
   "cell_type": "code",
   "execution_count": 149,
   "id": "921ca3de",
   "metadata": {},
   "outputs": [
    {
     "data": {
      "text/plain": [
       "162"
      ]
     },
     "execution_count": 149,
     "metadata": {},
     "output_type": "execute_result"
    }
   ],
   "source": [
    "len(teste) \n"
   ]
  },
  {
   "cell_type": "code",
   "execution_count": 150,
   "id": "7d7426ad",
   "metadata": {},
   "outputs": [
    {
     "name": "stdout",
     "output_type": "stream",
     "text": [
      "Porto Maravilha Município do Rio de Janeiro\n",
      "Parque Olímpico Município do Rio de Janeiro\n",
      "Veículo Leve sobre Trilhos Município do Rio de Janeiro\n",
      "Abastecimento de Água e Esgotamento Sanitário Paraty\n",
      "Iluminação Pública – Primeira Concessão Município de São Paulo\n",
      "PPP Habitacional Município de São Paulo\n",
      "Iluminação Pública Município do Rio de Janeiro\n",
      "PPP Habitacional – Fase 2 Município de São Paulo\n",
      "Resíduos SólidosCruz das Almas\n",
      "Iluminação PúblicaPorto\n",
      "Iluminação PúblicaTomé--Açu\n",
      "Iluminação PúblicaSão João de Meriti\n",
      "Terminais RodoviáriosMunicípio de São Paulo\n",
      "Vias e Estradas Públicas RuraisAlfenas\n",
      "Aeroporto de Parnaíba – Prefeito Dr. João Silva Filho Piauí\n",
      "Iluminação Pública Icatu\n",
      "Terminais de Ônibus do Sistema de Transporte Coletivo da Região Metropolitana de Recife Pernambuco\n",
      "Iluminação Pública Governador Eugênio Barros\n",
      "Iluminação Pública Castelo do Piauí\n",
      "Iluminação Pública Santa Luzia\n",
      "Geração de Energia Fotovoltaica São José dos Campos\n",
      "Resíduos Sólidos Itapevi\n",
      "Sistema Integrado de Manejo e Gestão de Resíduos Sólidos São Bernardo do Campo\n",
      "Limpeza Urbana e Manejo de Resíduos Sólidos Embu das Artes\n",
      "Complexo Penal Minas Gerais\n",
      "25\n"
     ]
    }
   ],
   "source": [
    "i = 0\n",
    "for n in nome_radarPPP:\n",
    "    if n not in teste:\n",
    "        print(n)\n",
    "        i+=1\n",
    "print(i)"
   ]
  },
  {
   "cell_type": "code",
   "execution_count": 16,
   "id": "0d84694d",
   "metadata": {},
   "outputs": [],
   "source": [
    "backup = pd.read_excel(\"Backup.xlsx\")"
   ]
  },
  {
   "cell_type": "code",
   "execution_count": 17,
   "id": "376a44de",
   "metadata": {},
   "outputs": [],
   "source": [
    "nome_backup = list(backup['Nome'])"
   ]
  },
  {
   "cell_type": "code",
   "execution_count": 24,
   "id": "1679122e",
   "metadata": {},
   "outputs": [
    {
     "data": {
      "text/plain": [
       "63"
      ]
     },
     "execution_count": 24,
     "metadata": {},
     "output_type": "execute_result"
    }
   ],
   "source": [
    "len(nome_backup)"
   ]
  },
  {
   "cell_type": "code",
   "execution_count": 26,
   "id": "81eca7c8",
   "metadata": {},
   "outputs": [
    {
     "name": "stdout",
     "output_type": "stream",
     "text": [
      "Aterro Sanitário de Resíduos Sólidos – Segunda Concessão\n",
      "Iluminação Pública\n",
      "Iluminação Pública\n",
      "Resíduos Sólidos\n",
      "Iluminação Pública\n"
     ]
    }
   ],
   "source": [
    "bup_nomes = []\n",
    "for n in nome_radarPPP:\n",
    "    if n not in nome_backup:\n",
    "        bup_nomes.append(n)\n",
    "    else:\n",
    "        print(n)"
   ]
  },
  {
   "cell_type": "code",
   "execution_count": 23,
   "id": "c9fb3771",
   "metadata": {},
   "outputs": [
    {
     "data": {
      "text/plain": [
       "183"
      ]
     },
     "execution_count": 23,
     "metadata": {},
     "output_type": "execute_result"
    }
   ],
   "source": [
    "len(bup_nomes)"
   ]
  },
  {
   "cell_type": "code",
   "execution_count": 25,
   "id": "95af4056",
   "metadata": {},
   "outputs": [
    {
     "data": {
      "text/plain": [
       "246"
      ]
     },
     "execution_count": 25,
     "metadata": {},
     "output_type": "execute_result"
    }
   ],
   "source": [
    "63+183"
   ]
  },
  {
   "cell_type": "code",
   "execution_count": null,
   "id": "09272293",
   "metadata": {},
   "outputs": [],
   "source": []
  }
 ],
 "metadata": {
  "kernelspec": {
   "display_name": "Python 3",
   "language": "python",
   "name": "python3"
  },
  "language_info": {
   "codemirror_mode": {
    "name": "ipython",
    "version": 3
   },
   "file_extension": ".py",
   "mimetype": "text/x-python",
   "name": "python",
   "nbconvert_exporter": "python",
   "pygments_lexer": "ipython3",
   "version": "3.7.6"
  }
 },
 "nbformat": 4,
 "nbformat_minor": 5
}
