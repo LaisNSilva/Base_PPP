{
 "cells": [
  {
   "cell_type": "code",
   "execution_count": 82,
   "id": "90c9bb80",
   "metadata": {},
   "outputs": [],
   "source": [
    "import pandas as pd\n"
   ]
  },
  {
   "cell_type": "code",
   "execution_count": 83,
   "id": "5669d430",
   "metadata": {},
   "outputs": [],
   "source": [
    "base_completa = pd.read_excel(r\"C:\\Users\\Lais Nascimento\\Desktop\\Base_PPP\\output\\Base_PPP.xlsx\")"
   ]
  },
  {
   "cell_type": "code",
   "execution_count": 84,
   "id": "fe724291",
   "metadata": {},
   "outputs": [],
   "source": [
    "base_radarPPP = pd.read_excel(r\"C:\\Users\\Lais Nascimento\\Desktop\\Base_PPP\\output\\Backup_Radar_PPP.xlsx\")"
   ]
  },
  {
   "cell_type": "code",
   "execution_count": 85,
   "id": "6dfc471d",
   "metadata": {},
   "outputs": [],
   "source": [
    "nome_radarPPP = list(base_radarPPP['limpeza'])\n",
    "nome_completa = list(base_completa['limpeza'])\n"
   ]
  },
  {
   "cell_type": "code",
   "execution_count": 86,
   "id": "e0b926a8",
   "metadata": {},
   "outputs": [],
   "source": [
    "inputs_nomes = [i for i in nome_completa if i not in nome_radarPPP]"
   ]
  },
  {
   "cell_type": "code",
   "execution_count": 6,
   "id": "4895edff",
   "metadata": {},
   "outputs": [],
   "source": [
    "filter_base = base_completa.loc[base_completa['limpeza'].isin(inputs_nomes)]"
   ]
  },
  {
   "cell_type": "code",
   "execution_count": 7,
   "id": "efcbaf29",
   "metadata": {},
   "outputs": [],
   "source": [
    "filter_base.to_excel('INPUT_Base_PPP.xlsx')"
   ]
  },
  {
   "cell_type": "code",
   "execution_count": 8,
   "id": "d9700a24",
   "metadata": {},
   "outputs": [],
   "source": [
    "filter_base = base_completa.loc[base_completa['limpeza'].isin(nome_radarPPP)]"
   ]
  },
  {
   "cell_type": "code",
   "execution_count": 9,
   "id": "7f6a6ad7",
   "metadata": {},
   "outputs": [],
   "source": [
    "filter_base.to_excel('Backup.xlsx')"
   ]
  },
  {
   "cell_type": "code",
   "execution_count": 87,
   "id": "77172715",
   "metadata": {},
   "outputs": [
    {
     "data": {
      "text/plain": [
       "188"
      ]
     },
     "execution_count": 87,
     "metadata": {},
     "output_type": "execute_result"
    }
   ],
   "source": [
    "len(nome_radarPPP)"
   ]
  },
  {
   "cell_type": "code",
   "execution_count": 88,
   "id": "aee8f896",
   "metadata": {},
   "outputs": [
    {
     "data": {
      "text/plain": [
       "335"
      ]
     },
     "execution_count": 88,
     "metadata": {},
     "output_type": "execute_result"
    }
   ],
   "source": [
    "len(nome_completa)"
   ]
  },
  {
   "cell_type": "code",
   "execution_count": 89,
   "id": "32968558",
   "metadata": {},
   "outputs": [
    {
     "data": {
      "text/plain": [
       "163"
      ]
     },
     "execution_count": 89,
     "metadata": {},
     "output_type": "execute_result"
    }
   ],
   "source": [
    "len(inputs_nomes)"
   ]
  },
  {
   "cell_type": "code",
   "execution_count": 90,
   "id": "27762424",
   "metadata": {},
   "outputs": [
    {
     "data": {
      "text/plain": [
       "147"
      ]
     },
     "execution_count": 90,
     "metadata": {},
     "output_type": "execute_result"
    }
   ],
   "source": [
    "335-188"
   ]
  },
  {
   "cell_type": "code",
   "execution_count": 91,
   "id": "b6013cf4",
   "metadata": {},
   "outputs": [
    {
     "data": {
      "text/plain": [
       "16"
      ]
     },
     "execution_count": 91,
     "metadata": {},
     "output_type": "execute_result"
    }
   ],
   "source": [
    "163-147"
   ]
  },
  {
   "cell_type": "code",
   "execution_count": 92,
   "id": "a1d50df6",
   "metadata": {},
   "outputs": [],
   "source": [
    "teste = [i for i in nome_completa if i not in inputs_nomes]"
   ]
  },
  {
   "cell_type": "code",
   "execution_count": 81,
   "id": "c5a4d2c5",
   "metadata": {},
   "outputs": [
    {
     "name": "stdout",
     "output_type": "stream",
     "text": [
      "Terminais RodoviáriosMunicípio de São Paulo\n",
      "Vias e Estradas Públicas RuraisAlfenas\n",
      "Aeroporto de Parnaíba – Prefeito Dr. João Silva Filho Piauí\n",
      "Iluminação Pública Icatu\n",
      "Terminais de Ônibus do Sistema de Transporte Coletivo da Região Metropolitana de Recife Pernambuco\n",
      "Iluminação Pública Governador Eugênio Barros\n",
      "Iluminação Pública Castelo do Piauí\n",
      "Iluminação Pública Santa Luzia\n",
      "Geração de Energia Fotovoltaica São José dos Campos\n",
      "Resíduos Sólidos Itapevi\n",
      "Aterro Sanitário de Resíduos Sólidos – Segunda Concessão Guarantã do Norte\n",
      "Hospital Municipal Faxinal\n",
      "Sistema de Transporte Coletivo Jacupiranga\n",
      "Rodovia Transcerrados Piauí\n",
      "Iluminação Pública Graça Aranha\n",
      "Planta de Dessalinização de Água Marinha Ceará\n",
      "Metrô de São Paulo – Linha 8 Diamante e Linha 9 Esmeralda Estado de São Paulo\n",
      "Resíduos Sólidos Angra dos Reis\n",
      "Iluminação Pública Campos do Jordão\n",
      "Plantas Solares Goianésia\n",
      "Iluminação Pública Sapucaia do Sul\n",
      "Iluminação Pública Petrolina\n",
      "Iluminação Pública Belém\n",
      "PPP Habitacional – Fase 2 Município de São Paulo\n",
      "Iluminação Pública Campo Belo\n",
      "Esgotamento Sanitário – Municípios Mato Grosso do Sul\n",
      "Iluminação Pública Franco da Rocha\n",
      "Iluminação Pública União da Vitória\n",
      "Cidade Inteligente Almeirim\n",
      "Esgotamento Sanitário do Município de Cariacica Espírito Santo\n",
      "Iluminação Pública Içara\n",
      "Limpeza Urbana e Manejo de Resíduos Sólidos Campos do Jordão\n",
      "Infraestrutura da Rede de Iluminação Pública Feira de Santana\n",
      "Miniusinas de Energia Solar Piauí\n",
      "Resíduos Sólidos Naviraí\n",
      "Iluminação Pública Aracaju\n",
      "Usina Solar Fotovoltaica Quixeramobim\n",
      "Aterro Sanitário Dom Cavati\n",
      "Sistema Viário do Oeste-Ponte Salvador-Ilha de Itaparica Bahia\n",
      "Iluminação Pública Pederneiras\n",
      "Iluminação Pública Barra do Corda\n",
      "Eficiência Energética Uberaba\n",
      "Iluminação Pública Vila Velha\n",
      "Iluminação Pública Angra dos Reis\n",
      "Resíduos Sólidos Itaquaquecetuba\n",
      "Iluminação Pública Ouro Preto\n",
      "Unidades Escolares Contagem\n",
      "Iluminação Pública Teresina\n",
      "Aterro Sanitário de Resíduos Sólidos – Primeira Concessão Guarantã do Norte\n",
      "Iluminação Pública Ibirité\n",
      "Iluminação Pública Porto Alegre\n",
      "Iluminação Pública Carmo do Cajuru\n",
      "Iluminação Pública Socorro\n",
      "Iluminação Pública Palhoça\n",
      "Iluminação Pública Município do Rio de Janeiro\n",
      "Sistema de Iluminação Pública Manaus\n",
      "Iluminação Pública Caieiras\n",
      "Saneamento Básico CORSAN Rio Grande do Sul\n",
      "Iluminação Pública Timbó\n",
      "Iluminação Pública Santo Amaro\n",
      "Iluminação Pública Hortolândia\n",
      "Iluminação Pública Uberlândia\n",
      "Usina de Geração Fotovoltaica Petrolina\n",
      "Iluminação Pública Barra do Piraí\n",
      "Resíduos Sólidos Barreirinhas\n",
      "Parque de Iluminação Pública Inteligente Guarapuava\n",
      "Iluminação Pública Presidente Dutra\n",
      "Iluminação Pública Miguel Pereira\n",
      "Iluminação Pública Ribeirão das Neves\n",
      "Iluminação Pública Barra do Garças\n",
      "Iluminação Pública Água Branca\n",
      "PPP Habitacional Município de São Paulo\n",
      "Iluminação Pública Uberaba\n",
      "Iluminação Pública Água Boa\n",
      "Veículo Leve sobre Trilhos Bahia\n",
      "Resíduos Sólidos Porto Nacional\n",
      "Sistema Viário BA-052 – Estrada do Feijão Bahia\n",
      "Rede IP Multiserviços Piauí\n",
      "Iluminação Pública Dom Eliseu\n",
      "Iluminação Pública – Primeira Concessão Município de São Paulo\n",
      "Ganha Tempo Mato Grosso\n",
      "Iluminação Pública Campo Maior\n",
      "Iluminação Pública Açailândia\n",
      "Esgotamento Sanitário do Município de Vila Velha Espírito Santo\n",
      "Iluminação Pública Marabá\n",
      "Iluminação Pública Cuiabá\n",
      "Resíduos Sólidos Caucaia\n",
      "Iluminação Pública Mauá\n",
      "Iluminação Pública Goianésia do Pará\n",
      "Iluminação Pública São José de Ribamar\n",
      "Iluminação Pública Belo Horizonte\n",
      "Iluminação Pública Guaratuba\n",
      "Abastecimento de Água Mauá\n",
      "Serviços de Limpeza Urbana e Manejo de Resíduos Sólidos Taubaté\n",
      "Rede de Atenção Primária à Saúde Belo Horizonte\n",
      "Resíduos Sólidos e Limpeza Urbana Cabreúva\n",
      "Aterro Sanitário Governador Valadares\n",
      "Central de Material Esterilizado Amazonas\n",
      "Sistema de Esgotamento Sanitário – SES Divinópolis Minas Gerais\n",
      "Gestão do Parque de Iluminação Pública Caraguatatuba\n",
      "SIM da RMBS Estado de São Paulo\n",
      "Iluminação Pública Urânia\n",
      "Veículo Leve sobre Trilhos no Eixo Anhanguera Goiás\n",
      "Resíduos Sólidos Chapadão do Sul\n",
      "Casa Paulista Estado de São Paulo\n",
      "Complexo Penitenciário Amazonas\n",
      "Diagnóstico por Imagem Bahia\n",
      "Aeroporto Regional da Zona da Mata Minas Gerais\n",
      "Unidade de Atendimento Integrado – Fase 2 Minas Gerais\n",
      "Rodovia dos Tamoios Estado de São Paulo\n",
      "Unidade de Atendimento Integrado – UAI da Praça Sete Minas Gerais\n",
      "Esgotamento Sanitário da Parte Alta de Maceió Alagoas\n",
      "Limpeza Urbana e Manejo de Resíduos Sólidos Salto\n",
      "Hospital Regional Metropolitano – HRM Ceará\n",
      "Corredor da PR-323, PRC-487 e PRC-272 Paraná\n",
      "Esgotamento Sanitário da Área Urbana Guarulhos\n",
      "Complexos Hospitalares Estado de São Paulo\n",
      "Ponte Estaiada sobre o Rio Cocó Ceará\n",
      "Metrô de São Paulo – Linha 18 Bronze Estado de São Paulo\n",
      "Esgotamento Sanitário do Município de Serra Espírito Santo\n",
      "Centro de Gestão Integrada Distrito Federal\n",
      "Abastecimento de Água e Esgotamento Sanitário Paraty\n",
      "Unidades de Atendimento Faça Fácil Espírito Santo\n",
      "Sistema Produtor Rio Manso Minas Gerais\n",
      "Metrô de São Paulo – Linha 6 Laranja Estado de São Paulo\n",
      "Vapt Vupt Ceará\n",
      "Sistema Metroviário de Salvador e Lauro de Freitas Bahia\n",
      "Coleta e Destinação Final de Resíduos Sólidos Paulista\n",
      "Nova Fábrica de Produção da FURP Estado de São Paulo\n",
      "Sistema Produtor São Lourenço Estado de São Paulo\n",
      "Veículo Leve sobre Trilhos Município do Rio de Janeiro\n",
      "Estádio Maracanã Estado do Rio de Janeiro\n",
      "Instituto Couto Maia Bahia\n",
      "Hospital da Zona Norte Amazonas\n",
      "Esgotamento Sanitário da Região Metropolitana do Recife e do Município de Goiana Pernambuco\n",
      "Esgotamento Sanitário Atibaia\n",
      "Esgotamento Sanitário Macaé\n",
      "Limpeza Urbana e Manejo de Resíduos Sólidos Campo Grande\n",
      "Resíduos Sólidos Belém\n",
      "Limpeza Pública e Manejo de Resíduos Sólidos Piracicaba\n",
      "Unidades de Ensino da Rede Municipal de Educação Básica – UMEI Belo Horizonte\n",
      "Unidades Básicas de Saúde da Família Manaus\n",
      "Usina de Gaseificação Planaltina\n",
      "Sistema Integrado de Manejo e Gestão de Resíduos Sólidos São Bernardo do Campo\n",
      "Esgotamento Sanitário Piracicaba\n",
      "Sistema Adutor do Agreste Alagoas\n",
      "Limpeza Pública e Manejo de Resíduos Sólidos São Luís\n",
      "Parque Olímpico Município do Rio de Janeiro\n",
      "Shopping Popular e Manutenção de Praça Pelotas\n",
      "Hospital Metropolitano de Belo Horizonte Belo Horizonte\n",
      "Tratamento de Resíduos Sólidos Urbanos Barueri\n",
      "Resíduos Sólidos Alfenas\n",
      "Sistema de Limpeza Pública Niterói\n",
      "Limpeza Urbana e Manejo de Resíduos Sólidos Itu\n",
      "Estádio das Dunas Rio Grande do Norte\n",
      "Unidade de Atendimento Integrado – Municípios Minas Gerais\n",
      "Complexo do Mineirão Minas Gerais\n",
      "Porto Maravilha Município do Rio de Janeiro\n",
      "Estádio Castelão Ceará\n",
      "Limpeza Urbana e Manejo de Resíduos Sólidos Embu das Artes\n",
      "Resíduos Sólidos Cotia\n",
      "Limpeza Urbana São Carlos\n",
      "Complexo Datacenter União\n",
      "Arena de Pernambuco – Primeira Concessão Pernambuco\n",
      "Hospital do Subúrbio Bahia\n",
      "Frota da Linha 8 Diamante Estado de São Paulo\n",
      "Limpeza Urbana e Manejo de Resíduos Sólidos Jacareí\n",
      "Arena Fonte Nova Bahia\n",
      "Centro Integrado de Ressocialização de Itaquitinga Pernambuco\n",
      "Complexo Penal Minas Gerais\n",
      "Centro Administrativo Distrito Federal\n",
      "Programas Habitacionais – Projeto Jardins Mangueiral Distrito Federal\n",
      "Polo Cinematográfico e Cultural Paulínia\n",
      "Resíduos Sólidos Belo Horizonte\n",
      "Sistema Produtor do Alto Tietê Estado de São Paulo\n",
      "Esgotamento Sanitário Guaratinguetá\n",
      "Limpeza Pública – Primeira Concessão Osasco\n",
      "Sistema de Esgotamento Sanitário Rio das Ostras\n",
      "Rodovia MG-050 Minas Gerais\n",
      "Esgotamento Sanitário Rio Claro\n",
      "Ponte de Acesso e Sistema Viário do Destino de Turismo e Lazer Praia do Paiva Pernambuco\n",
      "Sistema de Disposição Oceânica do Jaguaribe Bahia\n",
      "Metrô de São Paulo – Linha 4 Amarela Estado de São Paulo\n",
      "Aterro Sanitário de Resíduos Sólidos – Segunda ConcessãoGuarantã do Norte\n",
      "Iluminação PúblicaPorto\n",
      "Iluminação PúblicaTomé--Açu\n",
      "Resíduos SólidosCruz das Almas\n",
      "Iluminação PúblicaSão João de Meriti\n",
      "188\n"
     ]
    }
   ],
   "source": [
    "i = 0\n",
    "for n in nome_radarPPP:\n",
    "    if n not in inputs_nomes:\n",
    "        print(n)\n",
    "        i+=1\n",
    "print(i)"
   ]
  },
  {
   "cell_type": "code",
   "execution_count": 16,
   "id": "ff0a03f2",
   "metadata": {},
   "outputs": [],
   "source": [
    "backup = pd.read_excel(\"Backup.xlsx\")"
   ]
  },
  {
   "cell_type": "code",
   "execution_count": 17,
   "id": "47280e59",
   "metadata": {},
   "outputs": [],
   "source": [
    "nome_backup = list(backup['Nome'])"
   ]
  },
  {
   "cell_type": "code",
   "execution_count": 24,
   "id": "bce72fd0",
   "metadata": {},
   "outputs": [
    {
     "data": {
      "text/plain": [
       "63"
      ]
     },
     "execution_count": 24,
     "metadata": {},
     "output_type": "execute_result"
    }
   ],
   "source": [
    "len(nome_backup)"
   ]
  },
  {
   "cell_type": "code",
   "execution_count": 26,
   "id": "0e221993",
   "metadata": {},
   "outputs": [
    {
     "name": "stdout",
     "output_type": "stream",
     "text": [
      "Aterro Sanitário de Resíduos Sólidos – Segunda Concessão\n",
      "Iluminação Pública\n",
      "Iluminação Pública\n",
      "Resíduos Sólidos\n",
      "Iluminação Pública\n"
     ]
    }
   ],
   "source": [
    "bup_nomes = []\n",
    "for n in nome_radarPPP:\n",
    "    if n not in nome_backup:\n",
    "        bup_nomes.append(n)\n",
    "    else:\n",
    "        print(n)"
   ]
  },
  {
   "cell_type": "code",
   "execution_count": 23,
   "id": "c46c8202",
   "metadata": {},
   "outputs": [
    {
     "data": {
      "text/plain": [
       "183"
      ]
     },
     "execution_count": 23,
     "metadata": {},
     "output_type": "execute_result"
    }
   ],
   "source": [
    "len(bup_nomes)"
   ]
  },
  {
   "cell_type": "code",
   "execution_count": 25,
   "id": "3674e7d3",
   "metadata": {},
   "outputs": [
    {
     "data": {
      "text/plain": [
       "246"
      ]
     },
     "execution_count": 25,
     "metadata": {},
     "output_type": "execute_result"
    }
   ],
   "source": [
    "63+183"
   ]
  },
  {
   "cell_type": "code",
   "execution_count": null,
   "id": "c9d3d98c",
   "metadata": {},
   "outputs": [],
   "source": []
  }
 ],
 "metadata": {
  "kernelspec": {
   "display_name": "Python 3",
   "language": "python",
   "name": "python3"
  },
  "language_info": {
   "codemirror_mode": {
    "name": "ipython",
    "version": 3
   },
   "file_extension": ".py",
   "mimetype": "text/x-python",
   "name": "python",
   "nbconvert_exporter": "python",
   "pygments_lexer": "ipython3",
   "version": "3.7.6"
  }
 },
 "nbformat": 4,
 "nbformat_minor": 5
}
